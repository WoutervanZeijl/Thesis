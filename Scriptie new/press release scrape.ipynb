{
 "cells": [
  {
   "cell_type": "code",
   "execution_count": 2,
   "id": "2d8d587a",
   "metadata": {},
   "outputs": [],
   "source": [
    "import time\n",
    "import datetime\n",
    "import pandas as pd\n",
    "import warnings\n",
    "import numpy as np\n",
    "warnings.filterwarnings('ignore')\n",
    "import math\n"
   ]
  },
  {
   "cell_type": "code",
   "execution_count": 15,
   "id": "7599da79",
   "metadata": {},
   "outputs": [],
   "source": [
    "ticker = 'AMZN'\n",
    "period1 = int(time.mktime(datetime.datetime(2015, 1, 1).timetuple()))\n",
    "period2 = int(time.mktime(datetime.datetime(2023, 1, 1).timetuple()))\n",
    "interval = '1mo' \n",
    "\n",
    "query_string = f'https://query1.finance.yahoo.com/v7/finance/download/{ticker}?period1={period1}&period2={period2}&interval={interval}&events=history&includeAdjustedClose=true'\n",
    "\n",
    "amazon_stock = pd.read_csv(query_string)\n",
    "\n",
    "amazon_stock = amazon_stock[[\"Date\", \"Adj Close\", \"Volume\"]]\n",
    "amazon_stock = amazon_stock.set_index('Date')\n",
    "amazon_stock[\"press release\"] = \"\""
   ]
  },
  {
   "cell_type": "code",
   "execution_count": 20,
   "id": "145a3502",
   "metadata": {},
   "outputs": [],
   "source": [
    "date = '2018-01-01'\n",
    "amazon_stock[\"press release\"].loc[date] = \"Our 2017 projections for Alexa were very optimistic, and we far exceeded them. We don’t see positive surprises of this magnitude very often — expect us to double down,” said Jeff Bezos, Amazon founder and CEO. “We’ve reached an important point where other companies and developers are accelerating adoption of Alexa. There are now over 30,000 skills from outside developers, customers can control more than 4,000 smart home devices from 1,200 unique brands with Alexa, and we’re seeing strong response to our new far-field voice kit for manufacturers. Much more to come and a huge thank you to our customers and partners.\""
   ]
  },
  {
   "cell_type": "code",
   "execution_count": 21,
   "id": "32c04232",
   "metadata": {},
   "outputs": [],
   "source": [
    "amazon_stock['Price change 12mo'] = np.nan\n",
    "for i in range(0, len(amazon_stock['Adj Close'])):\n",
    "    if amazon_stock['press release'].iloc[i]:\n",
    "        change = amazon_stock['Adj Close'].iloc[i+11] - amazon_stock['Adj Close'].iloc[i]\n",
    "        amazon_stock['Price change 12mo'].iloc[i] = change\n",
    "        \n",
    "amazon_stock['Price change 8mo'] = np.nan\n",
    "for i in range(0, len(amazon_stock['Adj Close'])):\n",
    "    if amazon_stock['press release'].iloc[i]:\n",
    "        change = amazon_stock['Adj Close'].iloc[i+8] - amazon_stock['Adj Close'].iloc[i]\n",
    "        amazon_stock['Price change 8mo'].iloc[i] = change\n",
    "        \n",
    "amazon_stock['Price change 4mo'] = np.nan\n",
    "for i in range(0, len(amazon_stock['Adj Close'])):\n",
    "    if amazon_stock['press release'].iloc[i]:\n",
    "        change = amazon_stock['Adj Close'].iloc[i+4] - amazon_stock['Adj Close'].iloc[i]\n",
    "        amazon_stock['Price change 4mo'].iloc[i] = change"
   ]
  },
  {
   "cell_type": "code",
   "execution_count": 22,
   "id": "230e4a86",
   "metadata": {},
   "outputs": [],
   "source": [
    "#amazon_stock.to_csv('Datasets/amazon dataset.csv')"
   ]
  },
  {
   "cell_type": "code",
   "execution_count": 33,
   "id": "70115404",
   "metadata": {},
   "outputs": [
    {
     "data": {
      "text/html": [
       "<div>\n",
       "<style scoped>\n",
       "    .dataframe tbody tr th:only-of-type {\n",
       "        vertical-align: middle;\n",
       "    }\n",
       "\n",
       "    .dataframe tbody tr th {\n",
       "        vertical-align: top;\n",
       "    }\n",
       "\n",
       "    .dataframe thead th {\n",
       "        text-align: right;\n",
       "    }\n",
       "</style>\n",
       "<table border=\"1\" class=\"dataframe\">\n",
       "  <thead>\n",
       "    <tr style=\"text-align: right;\">\n",
       "      <th></th>\n",
       "      <th>Adj Close</th>\n",
       "      <th>Volume</th>\n",
       "      <th>press release</th>\n",
       "      <th>Price change 12mo</th>\n",
       "      <th>Price change 8mo</th>\n",
       "      <th>Price change 4mo</th>\n",
       "    </tr>\n",
       "    <tr>\n",
       "      <th>Date</th>\n",
       "      <th></th>\n",
       "      <th></th>\n",
       "      <th></th>\n",
       "      <th></th>\n",
       "      <th></th>\n",
       "      <th></th>\n",
       "    </tr>\n",
       "  </thead>\n",
       "  <tbody>\n",
       "    <tr>\n",
       "      <th>2015-01-01</th>\n",
       "      <td>17.726500</td>\n",
       "      <td>2061142000</td>\n",
       "      <td></td>\n",
       "      <td>NaN</td>\n",
       "      <td>NaN</td>\n",
       "      <td>NaN</td>\n",
       "    </tr>\n",
       "    <tr>\n",
       "      <th>2015-02-01</th>\n",
       "      <td>19.007999</td>\n",
       "      <td>1416924000</td>\n",
       "      <td></td>\n",
       "      <td>NaN</td>\n",
       "      <td>NaN</td>\n",
       "      <td>NaN</td>\n",
       "    </tr>\n",
       "    <tr>\n",
       "      <th>2015-03-01</th>\n",
       "      <td>18.605000</td>\n",
       "      <td>1110056000</td>\n",
       "      <td></td>\n",
       "      <td>NaN</td>\n",
       "      <td>NaN</td>\n",
       "      <td>NaN</td>\n",
       "    </tr>\n",
       "    <tr>\n",
       "      <th>2015-04-01</th>\n",
       "      <td>21.089001</td>\n",
       "      <td>1688096000</td>\n",
       "      <td></td>\n",
       "      <td>NaN</td>\n",
       "      <td>NaN</td>\n",
       "      <td>NaN</td>\n",
       "    </tr>\n",
       "    <tr>\n",
       "      <th>2015-05-01</th>\n",
       "      <td>21.461500</td>\n",
       "      <td>1039660000</td>\n",
       "      <td></td>\n",
       "      <td>NaN</td>\n",
       "      <td>NaN</td>\n",
       "      <td>NaN</td>\n",
       "    </tr>\n",
       "    <tr>\n",
       "      <th>2015-06-01</th>\n",
       "      <td>21.704500</td>\n",
       "      <td>1099750000</td>\n",
       "      <td></td>\n",
       "      <td>NaN</td>\n",
       "      <td>NaN</td>\n",
       "      <td>NaN</td>\n",
       "    </tr>\n",
       "    <tr>\n",
       "      <th>2015-07-01</th>\n",
       "      <td>26.807501</td>\n",
       "      <td>2041400000</td>\n",
       "      <td></td>\n",
       "      <td>NaN</td>\n",
       "      <td>NaN</td>\n",
       "      <td>NaN</td>\n",
       "    </tr>\n",
       "    <tr>\n",
       "      <th>2015-08-01</th>\n",
       "      <td>25.644501</td>\n",
       "      <td>1657264000</td>\n",
       "      <td></td>\n",
       "      <td>NaN</td>\n",
       "      <td>NaN</td>\n",
       "      <td>NaN</td>\n",
       "    </tr>\n",
       "    <tr>\n",
       "      <th>2015-09-01</th>\n",
       "      <td>25.594500</td>\n",
       "      <td>1535378000</td>\n",
       "      <td></td>\n",
       "      <td>NaN</td>\n",
       "      <td>NaN</td>\n",
       "      <td>NaN</td>\n",
       "    </tr>\n",
       "    <tr>\n",
       "      <th>2015-10-01</th>\n",
       "      <td>31.295000</td>\n",
       "      <td>1942522000</td>\n",
       "      <td></td>\n",
       "      <td>NaN</td>\n",
       "      <td>NaN</td>\n",
       "      <td>NaN</td>\n",
       "    </tr>\n",
       "    <tr>\n",
       "      <th>2015-11-01</th>\n",
       "      <td>33.240002</td>\n",
       "      <td>1746098000</td>\n",
       "      <td></td>\n",
       "      <td>NaN</td>\n",
       "      <td>NaN</td>\n",
       "      <td>NaN</td>\n",
       "    </tr>\n",
       "    <tr>\n",
       "      <th>2015-12-01</th>\n",
       "      <td>33.794498</td>\n",
       "      <td>1803750000</td>\n",
       "      <td></td>\n",
       "      <td>NaN</td>\n",
       "      <td>NaN</td>\n",
       "      <td>NaN</td>\n",
       "    </tr>\n",
       "    <tr>\n",
       "      <th>2016-01-01</th>\n",
       "      <td>29.350000</td>\n",
       "      <td>2604018000</td>\n",
       "      <td></td>\n",
       "      <td>NaN</td>\n",
       "      <td>NaN</td>\n",
       "      <td>NaN</td>\n",
       "    </tr>\n",
       "    <tr>\n",
       "      <th>2016-02-01</th>\n",
       "      <td>27.625999</td>\n",
       "      <td>2482896000</td>\n",
       "      <td></td>\n",
       "      <td>NaN</td>\n",
       "      <td>NaN</td>\n",
       "      <td>NaN</td>\n",
       "    </tr>\n",
       "    <tr>\n",
       "      <th>2016-03-01</th>\n",
       "      <td>29.681999</td>\n",
       "      <td>1880190000</td>\n",
       "      <td></td>\n",
       "      <td>NaN</td>\n",
       "      <td>NaN</td>\n",
       "      <td>NaN</td>\n",
       "    </tr>\n",
       "    <tr>\n",
       "      <th>2016-04-01</th>\n",
       "      <td>32.979500</td>\n",
       "      <td>1569284000</td>\n",
       "      <td></td>\n",
       "      <td>NaN</td>\n",
       "      <td>NaN</td>\n",
       "      <td>NaN</td>\n",
       "    </tr>\n",
       "    <tr>\n",
       "      <th>2016-05-01</th>\n",
       "      <td>36.139500</td>\n",
       "      <td>1812290000</td>\n",
       "      <td></td>\n",
       "      <td>NaN</td>\n",
       "      <td>NaN</td>\n",
       "      <td>NaN</td>\n",
       "    </tr>\n",
       "    <tr>\n",
       "      <th>2016-06-01</th>\n",
       "      <td>35.780998</td>\n",
       "      <td>1490818000</td>\n",
       "      <td></td>\n",
       "      <td>NaN</td>\n",
       "      <td>NaN</td>\n",
       "      <td>NaN</td>\n",
       "    </tr>\n",
       "    <tr>\n",
       "      <th>2016-07-01</th>\n",
       "      <td>37.940498</td>\n",
       "      <td>1372710000</td>\n",
       "      <td></td>\n",
       "      <td>NaN</td>\n",
       "      <td>NaN</td>\n",
       "      <td>NaN</td>\n",
       "    </tr>\n",
       "    <tr>\n",
       "      <th>2016-08-01</th>\n",
       "      <td>38.458000</td>\n",
       "      <td>1000008000</td>\n",
       "      <td></td>\n",
       "      <td>NaN</td>\n",
       "      <td>NaN</td>\n",
       "      <td>NaN</td>\n",
       "    </tr>\n",
       "    <tr>\n",
       "      <th>2016-09-01</th>\n",
       "      <td>41.865501</td>\n",
       "      <td>1346714000</td>\n",
       "      <td></td>\n",
       "      <td>NaN</td>\n",
       "      <td>NaN</td>\n",
       "      <td>NaN</td>\n",
       "    </tr>\n",
       "    <tr>\n",
       "      <th>2016-10-01</th>\n",
       "      <td>39.491001</td>\n",
       "      <td>1541276000</td>\n",
       "      <td></td>\n",
       "      <td>NaN</td>\n",
       "      <td>NaN</td>\n",
       "      <td>NaN</td>\n",
       "    </tr>\n",
       "    <tr>\n",
       "      <th>2016-11-01</th>\n",
       "      <td>37.528500</td>\n",
       "      <td>2201718000</td>\n",
       "      <td></td>\n",
       "      <td>NaN</td>\n",
       "      <td>NaN</td>\n",
       "      <td>NaN</td>\n",
       "    </tr>\n",
       "    <tr>\n",
       "      <th>2016-12-01</th>\n",
       "      <td>37.493500</td>\n",
       "      <td>1473204000</td>\n",
       "      <td></td>\n",
       "      <td>NaN</td>\n",
       "      <td>NaN</td>\n",
       "      <td>NaN</td>\n",
       "    </tr>\n",
       "    <tr>\n",
       "      <th>2017-01-01</th>\n",
       "      <td>41.174000</td>\n",
       "      <td>1412280000</td>\n",
       "      <td></td>\n",
       "      <td>NaN</td>\n",
       "      <td>NaN</td>\n",
       "      <td>NaN</td>\n",
       "    </tr>\n",
       "    <tr>\n",
       "      <th>2017-02-01</th>\n",
       "      <td>42.251999</td>\n",
       "      <td>1434966000</td>\n",
       "      <td></td>\n",
       "      <td>NaN</td>\n",
       "      <td>NaN</td>\n",
       "      <td>NaN</td>\n",
       "    </tr>\n",
       "    <tr>\n",
       "      <th>2017-03-01</th>\n",
       "      <td>44.327000</td>\n",
       "      <td>1214214000</td>\n",
       "      <td></td>\n",
       "      <td>NaN</td>\n",
       "      <td>NaN</td>\n",
       "      <td>NaN</td>\n",
       "    </tr>\n",
       "    <tr>\n",
       "      <th>2017-04-01</th>\n",
       "      <td>46.249500</td>\n",
       "      <td>1470794000</td>\n",
       "      <td></td>\n",
       "      <td>NaN</td>\n",
       "      <td>NaN</td>\n",
       "      <td>NaN</td>\n",
       "    </tr>\n",
       "    <tr>\n",
       "      <th>2017-05-01</th>\n",
       "      <td>49.730999</td>\n",
       "      <td>1524040000</td>\n",
       "      <td></td>\n",
       "      <td>NaN</td>\n",
       "      <td>NaN</td>\n",
       "      <td>NaN</td>\n",
       "    </tr>\n",
       "    <tr>\n",
       "      <th>2017-06-01</th>\n",
       "      <td>48.400002</td>\n",
       "      <td>1922708000</td>\n",
       "      <td></td>\n",
       "      <td>NaN</td>\n",
       "      <td>NaN</td>\n",
       "      <td>NaN</td>\n",
       "    </tr>\n",
       "  </tbody>\n",
       "</table>\n",
       "</div>"
      ],
      "text/plain": [
       "            Adj Close      Volume press release  Price change 12mo  \\\n",
       "Date                                                                 \n",
       "2015-01-01  17.726500  2061142000                              NaN   \n",
       "2015-02-01  19.007999  1416924000                              NaN   \n",
       "2015-03-01  18.605000  1110056000                              NaN   \n",
       "2015-04-01  21.089001  1688096000                              NaN   \n",
       "2015-05-01  21.461500  1039660000                              NaN   \n",
       "2015-06-01  21.704500  1099750000                              NaN   \n",
       "2015-07-01  26.807501  2041400000                              NaN   \n",
       "2015-08-01  25.644501  1657264000                              NaN   \n",
       "2015-09-01  25.594500  1535378000                              NaN   \n",
       "2015-10-01  31.295000  1942522000                              NaN   \n",
       "2015-11-01  33.240002  1746098000                              NaN   \n",
       "2015-12-01  33.794498  1803750000                              NaN   \n",
       "2016-01-01  29.350000  2604018000                              NaN   \n",
       "2016-02-01  27.625999  2482896000                              NaN   \n",
       "2016-03-01  29.681999  1880190000                              NaN   \n",
       "2016-04-01  32.979500  1569284000                              NaN   \n",
       "2016-05-01  36.139500  1812290000                              NaN   \n",
       "2016-06-01  35.780998  1490818000                              NaN   \n",
       "2016-07-01  37.940498  1372710000                              NaN   \n",
       "2016-08-01  38.458000  1000008000                              NaN   \n",
       "2016-09-01  41.865501  1346714000                              NaN   \n",
       "2016-10-01  39.491001  1541276000                              NaN   \n",
       "2016-11-01  37.528500  2201718000                              NaN   \n",
       "2016-12-01  37.493500  1473204000                              NaN   \n",
       "2017-01-01  41.174000  1412280000                              NaN   \n",
       "2017-02-01  42.251999  1434966000                              NaN   \n",
       "2017-03-01  44.327000  1214214000                              NaN   \n",
       "2017-04-01  46.249500  1470794000                              NaN   \n",
       "2017-05-01  49.730999  1524040000                              NaN   \n",
       "2017-06-01  48.400002  1922708000                              NaN   \n",
       "\n",
       "            Price change 8mo  Price change 4mo  \n",
       "Date                                            \n",
       "2015-01-01               NaN               NaN  \n",
       "2015-02-01               NaN               NaN  \n",
       "2015-03-01               NaN               NaN  \n",
       "2015-04-01               NaN               NaN  \n",
       "2015-05-01               NaN               NaN  \n",
       "2015-06-01               NaN               NaN  \n",
       "2015-07-01               NaN               NaN  \n",
       "2015-08-01               NaN               NaN  \n",
       "2015-09-01               NaN               NaN  \n",
       "2015-10-01               NaN               NaN  \n",
       "2015-11-01               NaN               NaN  \n",
       "2015-12-01               NaN               NaN  \n",
       "2016-01-01               NaN               NaN  \n",
       "2016-02-01               NaN               NaN  \n",
       "2016-03-01               NaN               NaN  \n",
       "2016-04-01               NaN               NaN  \n",
       "2016-05-01               NaN               NaN  \n",
       "2016-06-01               NaN               NaN  \n",
       "2016-07-01               NaN               NaN  \n",
       "2016-08-01               NaN               NaN  \n",
       "2016-09-01               NaN               NaN  \n",
       "2016-10-01               NaN               NaN  \n",
       "2016-11-01               NaN               NaN  \n",
       "2016-12-01               NaN               NaN  \n",
       "2017-01-01               NaN               NaN  \n",
       "2017-02-01               NaN               NaN  \n",
       "2017-03-01               NaN               NaN  \n",
       "2017-04-01               NaN               NaN  \n",
       "2017-05-01               NaN               NaN  \n",
       "2017-06-01               NaN               NaN  "
      ]
     },
     "execution_count": 33,
     "metadata": {},
     "output_type": "execute_result"
    }
   ],
   "source": [
    "amazon_stock.head(30)"
   ]
  },
  {
   "cell_type": "code",
   "execution_count": null,
   "id": "13487cf9",
   "metadata": {},
   "outputs": [],
   "source": []
  },
  {
   "cell_type": "code",
   "execution_count": 40,
   "id": "ccf6bcbe",
   "metadata": {},
   "outputs": [],
   "source": [
    "ticker = 'AAPL'\n",
    "period1 = int(time.mktime(datetime.datetime(2015, 1, 1).timetuple()))\n",
    "period2 = int(time.mktime(datetime.datetime(2023, 6, 1).timetuple()))\n",
    "interval = '1mo' \n",
    "\n",
    "query_string = f'https://query1.finance.yahoo.com/v7/finance/download/{ticker}?period1={period1}&period2={period2}&interval={interval}&events=history&includeAdjustedClose=true'\n",
    "\n",
    "apple_stock = pd.read_csv(query_string)\n",
    "\n",
    "apple_stock = apple_stock[[\"Date\", \"Adj Close\", \"Volume\"]]\n",
    "apple_stock = apple_stock.set_index('Date')\n",
    "apple_stock[\"press release\"] = np.nan"
   ]
  },
  {
   "cell_type": "code",
   "execution_count": 48,
   "id": "046170c0",
   "metadata": {},
   "outputs": [],
   "source": [
    "date = '2021-10-01'\n",
    "apple_stock[\"press release\"].loc[date] = \"This year we launched our most powerful products ever, from M1-powered Macs to an iPhone 13 lineup that is setting a new standard for performance and empowering our customers to create and connect in new ways,” said Tim Cook, Apple’s CEO. “We are infusing our values into everything we make — moving closer to our 2030 goal of being carbon neutral up and down our supply chain and across the lifecycle of our products, and ever advancing our mission to build a more equitable future. Our record September quarter results capped off a remarkable fiscal year of strong double-digit growth, during which we set new revenue records in all of our geographic segments and product categories in spite of continued uncertainty in the macro environment,” said Luca Maestri, Apple’s CFO. “The combination of our record sales performance, unmatched customer loyalty, and strength of our ecosystem drove our active installed base of devices to a new all-time high. During the September quarter, we returned over $24 billion to our shareholders, as we continue to make progress toward our goal of reaching a net cash neutral position over time.\""
   ]
  },
  {
   "cell_type": "code",
   "execution_count": 53,
   "id": "3e92eb71",
   "metadata": {},
   "outputs": [],
   "source": [
    "apple_stock['Price change 12mo'] = np.nan\n",
    "for i in range(0, len(apple_stock['Adj Close'])):\n",
    "    if isinstance(apple_stock['press release'].iloc[i], str):\n",
    "        change = apple_stock['Adj Close'].iloc[i+6] - apple_stock['Adj Close'].iloc[i]\n",
    "        apple_stock['Price change 12mo'].iloc[i] = change\n",
    "        \n",
    "apple_stock['Price change 8mo'] = np.nan\n",
    "for i in range(0, len(apple_stock['Adj Close'])):\n",
    "    if isinstance(apple_stock['press release'].iloc[i], str):\n",
    "        change = apple_stock['Adj Close'].iloc[i+6] - apple_stock['Adj Close'].iloc[i]\n",
    "        apple_stock['Price change 8mo'].iloc[i] = change\n",
    "        \n",
    "apple_stock['Price change 4mo'] = np.nan\n",
    "for i in range(0, len(apple_stock['Adj Close'])):\n",
    "    if isinstance(apple_stock['press release'].iloc[i], str):\n",
    "        change = apple_stock['Adj Close'].iloc[i+4] - apple_stock['Adj Close'].iloc[i]\n",
    "        apple_stock['Price change 4mo'].iloc[i] = change"
   ]
  },
  {
   "cell_type": "code",
   "execution_count": 54,
   "id": "3533beab",
   "metadata": {},
   "outputs": [
    {
     "data": {
      "text/html": [
       "<div>\n",
       "<style scoped>\n",
       "    .dataframe tbody tr th:only-of-type {\n",
       "        vertical-align: middle;\n",
       "    }\n",
       "\n",
       "    .dataframe tbody tr th {\n",
       "        vertical-align: top;\n",
       "    }\n",
       "\n",
       "    .dataframe thead th {\n",
       "        text-align: right;\n",
       "    }\n",
       "</style>\n",
       "<table border=\"1\" class=\"dataframe\">\n",
       "  <thead>\n",
       "    <tr style=\"text-align: right;\">\n",
       "      <th></th>\n",
       "      <th>Adj Close</th>\n",
       "      <th>Volume</th>\n",
       "      <th>press release</th>\n",
       "      <th>Price change 12mo</th>\n",
       "      <th>Price change 8mo</th>\n",
       "      <th>Price change 4mo</th>\n",
       "    </tr>\n",
       "    <tr>\n",
       "      <th>Date</th>\n",
       "      <th></th>\n",
       "      <th></th>\n",
       "      <th></th>\n",
       "      <th></th>\n",
       "      <th></th>\n",
       "      <th></th>\n",
       "    </tr>\n",
       "  </thead>\n",
       "  <tbody>\n",
       "    <tr>\n",
       "      <th>2022-08-01</th>\n",
       "      <td>156.286789</td>\n",
       "      <td>1510239600</td>\n",
       "      <td>NaN</td>\n",
       "      <td>NaN</td>\n",
       "      <td>NaN</td>\n",
       "      <td>NaN</td>\n",
       "    </tr>\n",
       "    <tr>\n",
       "      <th>2022-09-01</th>\n",
       "      <td>137.570496</td>\n",
       "      <td>2084722800</td>\n",
       "      <td>NaN</td>\n",
       "      <td>NaN</td>\n",
       "      <td>NaN</td>\n",
       "      <td>NaN</td>\n",
       "    </tr>\n",
       "    <tr>\n",
       "      <th>2022-10-01</th>\n",
       "      <td>152.641541</td>\n",
       "      <td>1868139700</td>\n",
       "      <td>This quarter’s results reflect Apple’s commitm...</td>\n",
       "      <td>16.804077</td>\n",
       "      <td>16.804077</td>\n",
       "      <td>-5.659562</td>\n",
       "    </tr>\n",
       "    <tr>\n",
       "      <th>2022-11-01</th>\n",
       "      <td>147.355728</td>\n",
       "      <td>1724847700</td>\n",
       "      <td>NaN</td>\n",
       "      <td>NaN</td>\n",
       "      <td>NaN</td>\n",
       "      <td>NaN</td>\n",
       "    </tr>\n",
       "    <tr>\n",
       "      <th>2022-12-01</th>\n",
       "      <td>129.552719</td>\n",
       "      <td>1675731200</td>\n",
       "      <td>NaN</td>\n",
       "      <td>NaN</td>\n",
       "      <td>NaN</td>\n",
       "      <td>NaN</td>\n",
       "    </tr>\n",
       "    <tr>\n",
       "      <th>2023-01-01</th>\n",
       "      <td>143.871017</td>\n",
       "      <td>1443652500</td>\n",
       "      <td>NaN</td>\n",
       "      <td>NaN</td>\n",
       "      <td>NaN</td>\n",
       "      <td>NaN</td>\n",
       "    </tr>\n",
       "    <tr>\n",
       "      <th>2023-02-01</th>\n",
       "      <td>146.981979</td>\n",
       "      <td>1307198900</td>\n",
       "      <td>NaN</td>\n",
       "      <td>NaN</td>\n",
       "      <td>NaN</td>\n",
       "      <td>NaN</td>\n",
       "    </tr>\n",
       "    <tr>\n",
       "      <th>2023-03-01</th>\n",
       "      <td>164.672226</td>\n",
       "      <td>1520266600</td>\n",
       "      <td>NaN</td>\n",
       "      <td>NaN</td>\n",
       "      <td>NaN</td>\n",
       "      <td>NaN</td>\n",
       "    </tr>\n",
       "    <tr>\n",
       "      <th>2023-04-01</th>\n",
       "      <td>169.445618</td>\n",
       "      <td>969709700</td>\n",
       "      <td>NaN</td>\n",
       "      <td>NaN</td>\n",
       "      <td>NaN</td>\n",
       "      <td>NaN</td>\n",
       "    </tr>\n",
       "    <tr>\n",
       "      <th>2023-05-01</th>\n",
       "      <td>177.005173</td>\n",
       "      <td>1275155500</td>\n",
       "      <td>NaN</td>\n",
       "      <td>NaN</td>\n",
       "      <td>NaN</td>\n",
       "      <td>NaN</td>\n",
       "    </tr>\n",
       "  </tbody>\n",
       "</table>\n",
       "</div>"
      ],
      "text/plain": [
       "             Adj Close      Volume  \\\n",
       "Date                                 \n",
       "2022-08-01  156.286789  1510239600   \n",
       "2022-09-01  137.570496  2084722800   \n",
       "2022-10-01  152.641541  1868139700   \n",
       "2022-11-01  147.355728  1724847700   \n",
       "2022-12-01  129.552719  1675731200   \n",
       "2023-01-01  143.871017  1443652500   \n",
       "2023-02-01  146.981979  1307198900   \n",
       "2023-03-01  164.672226  1520266600   \n",
       "2023-04-01  169.445618   969709700   \n",
       "2023-05-01  177.005173  1275155500   \n",
       "\n",
       "                                                press release  \\\n",
       "Date                                                            \n",
       "2022-08-01                                                NaN   \n",
       "2022-09-01                                                NaN   \n",
       "2022-10-01  This quarter’s results reflect Apple’s commitm...   \n",
       "2022-11-01                                                NaN   \n",
       "2022-12-01                                                NaN   \n",
       "2023-01-01                                                NaN   \n",
       "2023-02-01                                                NaN   \n",
       "2023-03-01                                                NaN   \n",
       "2023-04-01                                                NaN   \n",
       "2023-05-01                                                NaN   \n",
       "\n",
       "            Price change 12mo  Price change 8mo  Price change 4mo  \n",
       "Date                                                               \n",
       "2022-08-01                NaN               NaN               NaN  \n",
       "2022-09-01                NaN               NaN               NaN  \n",
       "2022-10-01          16.804077         16.804077         -5.659562  \n",
       "2022-11-01                NaN               NaN               NaN  \n",
       "2022-12-01                NaN               NaN               NaN  \n",
       "2023-01-01                NaN               NaN               NaN  \n",
       "2023-02-01                NaN               NaN               NaN  \n",
       "2023-03-01                NaN               NaN               NaN  \n",
       "2023-04-01                NaN               NaN               NaN  \n",
       "2023-05-01                NaN               NaN               NaN  "
      ]
     },
     "execution_count": 54,
     "metadata": {},
     "output_type": "execute_result"
    }
   ],
   "source": [
    "apple_stock.tail(10)"
   ]
  },
  {
   "cell_type": "code",
   "execution_count": null,
   "id": "bf80f15c",
   "metadata": {},
   "outputs": [],
   "source": []
  },
  {
   "cell_type": "code",
   "execution_count": 55,
   "id": "980d1869",
   "metadata": {},
   "outputs": [],
   "source": [
    "#apple_stock.to_csv('Datasets/apple dataset.csv')"
   ]
  },
  {
   "cell_type": "code",
   "execution_count": null,
   "id": "85a97ca8",
   "metadata": {},
   "outputs": [],
   "source": []
  },
  {
   "cell_type": "code",
   "execution_count": 57,
   "id": "d5c20824",
   "metadata": {},
   "outputs": [],
   "source": [
    "ticker = 'MSFT'\n",
    "period1 = int(time.mktime(datetime.datetime(2015, 1, 1).timetuple()))\n",
    "period2 = int(time.mktime(datetime.datetime(2023, 6, 1).timetuple()))\n",
    "interval = '1mo' \n",
    "\n",
    "query_string = f'https://query1.finance.yahoo.com/v7/finance/download/{ticker}?period1={period1}&period2={period2}&interval={interval}&events=history&includeAdjustedClose=true'\n",
    "\n",
    "microsoft_stock = pd.read_csv(query_string)\n",
    "\n",
    "microsoft_stock = microsoft_stock[[\"Date\", \"Adj Close\", \"Volume\"]]\n",
    "microsoft_stock = microsoft_stock.set_index('Date')\n",
    "microsoft_stock[\"press release\"] = np.nan"
   ]
  },
  {
   "cell_type": "code",
   "execution_count": 66,
   "id": "eb9523d3",
   "metadata": {},
   "outputs": [],
   "source": [
    "date = '2017-07-01'\n",
    "microsoft_stock[\"press release\"].loc[date] = \"Innovation across our cloud platforms drove strong results this quarter,” said Satya Nadella, chief executive officer at Microsoft, “Customers are looking to Microsoft and our thriving partner ecosystem to accelerate their own digital transformations and to unlock new opportunity in this era of intelligent cloud and intelligent edge. We delivered a strong finish to the year with 30% growth in commercial bookings this quarter We will continue to invest in key areas that drive future growth for Microsoft and our customers.\""
   ]
  },
  {
   "cell_type": "code",
   "execution_count": 67,
   "id": "59844e1a",
   "metadata": {},
   "outputs": [],
   "source": [
    "microsoft_stock['Price change 12mo'] = np.nan\n",
    "for i in range(0, len(microsoft_stock['Adj Close'])):\n",
    "    if isinstance(microsoft_stock['press release'].iloc[i], str):\n",
    "        change = microsoft_stock['Adj Close'].iloc[i+10] - microsoft_stock['Adj Close'].iloc[i]\n",
    "        microsoft_stock['Price change 12mo'].iloc[i] = change\n",
    "        \n",
    "microsoft_stock['Price change 8mo'] = np.nan\n",
    "for i in range(0, len(microsoft_stock['Adj Close'])):\n",
    "    if isinstance(microsoft_stock['press release'].iloc[i], str):\n",
    "        change = microsoft_stock['Adj Close'].iloc[i+7] - microsoft_stock['Adj Close'].iloc[i]\n",
    "        microsoft_stock['Price change 8mo'].iloc[i] = change\n",
    "        \n",
    "microsoft_stock['Price change 4mo'] = np.nan\n",
    "for i in range(0, len(microsoft_stock['Adj Close'])):\n",
    "    if isinstance(microsoft_stock['press release'].iloc[i], str):\n",
    "        change = microsoft_stock['Adj Close'].iloc[i+4] - microsoft_stock['Adj Close'].iloc[i]\n",
    "        microsoft_stock['Price change 4mo'].iloc[i] = change"
   ]
  },
  {
   "cell_type": "code",
   "execution_count": 68,
   "id": "19f38341",
   "metadata": {},
   "outputs": [],
   "source": [
    "#microsoft_stock.to_csv('Datasets/microsoft dataset.csv')"
   ]
  },
  {
   "cell_type": "code",
   "execution_count": null,
   "id": "8a19bf85",
   "metadata": {},
   "outputs": [],
   "source": []
  },
  {
   "cell_type": "code",
   "execution_count": 69,
   "id": "6bb80f51",
   "metadata": {},
   "outputs": [],
   "source": [
    "ticker = 'NVDA'\n",
    "period1 = int(time.mktime(datetime.datetime(2015, 1, 1).timetuple()))\n",
    "period2 = int(time.mktime(datetime.datetime(2023, 6, 1).timetuple()))\n",
    "interval = '1mo' \n",
    "\n",
    "query_string = f'https://query1.finance.yahoo.com/v7/finance/download/{ticker}?period1={period1}&period2={period2}&interval={interval}&events=history&includeAdjustedClose=true'\n",
    "\n",
    "nvidia_stock = pd.read_csv(query_string)\n",
    "\n",
    "nvidia_stock = nvidia_stock[[\"Date\", \"Adj Close\", \"Volume\"]]\n",
    "nvidia_stock = nvidia_stock.set_index('Date')\n",
    "nvidia_stock[\"press release\"] = np.nan"
   ]
  },
  {
   "cell_type": "code",
   "execution_count": 74,
   "id": "c0acab15",
   "metadata": {},
   "outputs": [],
   "source": [
    "date = '2017-02-01'\n",
    "nvidia_stock[\"press release\"].loc[date] = \"We achieved another record quarter, capping an excellent year,” said Jensen Huang, founder and chief executive officer of NVIDIA. “In a powerful sign of our progress, attendees at NVIDIA’s GPU Technology Conferences reached 22,000, up tenfold in five years, as software developers working in AI, self-driving cars, and a broad range of other fields continued to discover the acceleration and money-saving benefits of our GPU computing platform. Industries around the world are racing to incorporate AI. Virtually every internet and cloud service provider has embraced our Volta GPUs. Hundreds of transportation companies are using our NVIDIA DRIVE platform. From manufacturing and healthcare to smart cities, innovators are using our platform to invent the future\""
   ]
  },
  {
   "cell_type": "code",
   "execution_count": 75,
   "id": "f2e76045",
   "metadata": {},
   "outputs": [],
   "source": [
    "nvidia_stock['Price change 12mo'] = np.nan\n",
    "for i in range(0, len(nvidia_stock['Adj Close'])):\n",
    "    if isinstance(nvidia_stock['press release'].iloc[i], str):\n",
    "        change = nvidia_stock['Adj Close'].iloc[i+11] - nvidia_stock['Adj Close'].iloc[i]\n",
    "        nvidia_stock['Price change 12mo'].iloc[i] = change\n",
    "        \n",
    "nvidia_stock['Price change 8mo'] = np.nan\n",
    "for i in range(0, len(nvidia_stock['Adj Close'])):\n",
    "    if isinstance(nvidia_stock['press release'].iloc[i], str):\n",
    "        change = nvidia_stock['Adj Close'].iloc[i+7] - nvidia_stock['Adj Close'].iloc[i]\n",
    "        nvidia_stock['Price change 8mo'].iloc[i] = change\n",
    "        \n",
    "nvidia_stock['Price change 4mo'] = np.nan\n",
    "for i in range(0, len(nvidia_stock['Adj Close'])):\n",
    "    if isinstance(nvidia_stock['press release'].iloc[i], str):\n",
    "        change = nvidia_stock['Adj Close'].iloc[i+4] - nvidia_stock['Adj Close'].iloc[i]\n",
    "        nvidia_stock['Price change 4mo'].iloc[i] = change"
   ]
  },
  {
   "cell_type": "code",
   "execution_count": 78,
   "id": "66e099bd",
   "metadata": {},
   "outputs": [],
   "source": [
    "#nvidia_stock.to_csv('Datasets/nvidia dataset.csv')"
   ]
  },
  {
   "cell_type": "code",
   "execution_count": null,
   "id": "1c457795",
   "metadata": {},
   "outputs": [],
   "source": []
  },
  {
   "cell_type": "code",
   "execution_count": 79,
   "id": "bc2a2626",
   "metadata": {},
   "outputs": [],
   "source": [
    "ticker = 'GOOGL'\n",
    "period1 = int(time.mktime(datetime.datetime(2015, 1, 1).timetuple()))\n",
    "period2 = int(time.mktime(datetime.datetime(2023, 6, 1).timetuple()))\n",
    "interval = '1mo' \n",
    "\n",
    "query_string = f'https://query1.finance.yahoo.com/v7/finance/download/{ticker}?period1={period1}&period2={period2}&interval={interval}&events=history&includeAdjustedClose=true'\n",
    "\n",
    "alphabet_stock = pd.read_csv(query_string)\n",
    "\n",
    "alphabet_stock = alphabet_stock[[\"Date\", \"Adj Close\", \"Volume\"]]\n",
    "alphabet_stock = alphabet_stock.set_index('Date')\n",
    "alphabet_stock[\"press release\"] = np.nan"
   ]
  },
  {
   "cell_type": "code",
   "execution_count": 82,
   "id": "495c80ef",
   "metadata": {},
   "outputs": [],
   "source": [
    "date = '2020-10-01'\n",
    "alphabet_stock[\"press release\"].loc[date] = \"Our strong results this quarter reflect the helpfulness of our products and services to people and businesses, as well as the accelerating transition to online services and the cloud. Google succeeds when we help our customers and partners succeed, and we see significant opportunities to forge meaningful partnerships as businesses increasingly look to a digital future. Our strong fourth quarter performance, with revenues of $56.9 billion, was driven by Search and YouTube, as consumer and business activity recovered from earlier in the year. Google Cloud revenues were $13.1 billion for 2020, with significant ongoing momentum, and we remain focused on delivering value across the growth opportunities we see.\""
   ]
  },
  {
   "cell_type": "code",
   "execution_count": 83,
   "id": "a966ca19",
   "metadata": {},
   "outputs": [],
   "source": [
    "alphabet_stock['Price change 12mo'] = np.nan\n",
    "for i in range(0, len(alphabet_stock['Adj Close'])):\n",
    "    if isinstance(alphabet_stock['press release'].iloc[i], str):\n",
    "        change = alphabet_stock['Adj Close'].iloc[i+7] - alphabet_stock['Adj Close'].iloc[i]\n",
    "        alphabet_stock['Price change 12mo'].iloc[i] = change\n",
    "        \n",
    "alphabet_stock['Price change 8mo'] = np.nan\n",
    "for i in range(0, len(alphabet_stock['Adj Close'])):\n",
    "    if isinstance(alphabet_stock['press release'].iloc[i], str):\n",
    "        change = alphabet_stock['Adj Close'].iloc[i+5] - alphabet_stock['Adj Close'].iloc[i]\n",
    "        alphabet_stock['Price change 8mo'].iloc[i] = change\n",
    "        \n",
    "alphabet_stock['Price change 4mo'] = np.nan\n",
    "for i in range(0, len(alphabet_stock['Adj Close'])):\n",
    "    if isinstance(alphabet_stock['press release'].iloc[i], str):\n",
    "        change = alphabet_stock['Adj Close'].iloc[i+3] - alphabet_stock['Adj Close'].iloc[i]\n",
    "        alphabet_stock['Price change 4mo'].iloc[i] = change"
   ]
  },
  {
   "cell_type": "code",
   "execution_count": 84,
   "id": "437bbb12",
   "metadata": {},
   "outputs": [],
   "source": [
    "#alphabet_stock.to_csv('Datasets/alphabet dataset.csv')"
   ]
  },
  {
   "cell_type": "code",
   "execution_count": null,
   "id": "8dcbb2ab",
   "metadata": {},
   "outputs": [],
   "source": []
  },
  {
   "cell_type": "code",
   "execution_count": null,
   "id": "c3fd8e93",
   "metadata": {},
   "outputs": [],
   "source": []
  },
  {
   "cell_type": "code",
   "execution_count": 85,
   "id": "8f2ff9c7",
   "metadata": {},
   "outputs": [],
   "source": [
    "ticker = 'META'\n",
    "period1 = int(time.mktime(datetime.datetime(2015, 1, 1).timetuple()))\n",
    "period2 = int(time.mktime(datetime.datetime(2023, 6, 1).timetuple()))\n",
    "interval = '1mo' \n",
    "\n",
    "query_string = f'https://query1.finance.yahoo.com/v7/finance/download/{ticker}?period1={period1}&period2={period2}&interval={interval}&events=history&includeAdjustedClose=true'\n",
    "\n",
    "meta_stock = pd.read_csv(query_string)\n",
    "\n",
    "meta_stock = meta_stock[[\"Date\", \"Adj Close\", \"Volume\"]]\n",
    "meta_stock = meta_stock.set_index('Date')\n",
    "meta_stock[\"press release\"] = np.nan"
   ]
  },
  {
   "cell_type": "code",
   "execution_count": 89,
   "id": "b755c94a",
   "metadata": {},
   "outputs": [],
   "source": [
    "date = '2020-01-01'\n",
    "meta_stock[\"press release\"].loc[date] = \"We had a good quarter and a strong end to the year as our community and business continue to grow. We remain focused on building services that help people stay connected to those they care about.\""
   ]
  },
  {
   "cell_type": "code",
   "execution_count": 90,
   "id": "d3094f02",
   "metadata": {},
   "outputs": [],
   "source": [
    "meta_stock['Price change 12mo'] = np.nan\n",
    "for i in range(0, len(meta_stock['Adj Close'])):\n",
    "    if isinstance(meta_stock['press release'].iloc[i], str):\n",
    "        change = meta_stock['Adj Close'].iloc[i+11] - meta_stock['Adj Close'].iloc[i]\n",
    "        meta_stock['Price change 12mo'].iloc[i] = change\n",
    "        \n",
    "meta_stock['Price change 8mo'] = np.nan\n",
    "for i in range(0, len(meta_stock['Adj Close'])):\n",
    "    if isinstance(meta_stock['press release'].iloc[i], str):\n",
    "        change = meta_stock['Adj Close'].iloc[i+8] - meta_stock['Adj Close'].iloc[i]\n",
    "        meta_stock['Price change 8mo'].iloc[i] = change\n",
    "        \n",
    "meta_stock['Price change 4mo'] = np.nan\n",
    "for i in range(0, len(meta_stock['Adj Close'])):\n",
    "    if isinstance(meta_stock['press release'].iloc[i], str):\n",
    "        change = meta_stock['Adj Close'].iloc[i+4] - meta_stock['Adj Close'].iloc[i]\n",
    "        meta_stock['Price change 4mo'].iloc[i] = change"
   ]
  },
  {
   "cell_type": "code",
   "execution_count": 91,
   "id": "e305568e",
   "metadata": {},
   "outputs": [],
   "source": [
    "#meta_stock.to_csv('Datasets/meta dataset.csv')"
   ]
  },
  {
   "cell_type": "code",
   "execution_count": null,
   "id": "d8f5c233",
   "metadata": {},
   "outputs": [],
   "source": []
  },
  {
   "cell_type": "code",
   "execution_count": null,
   "id": "8c475d5b",
   "metadata": {},
   "outputs": [],
   "source": []
  },
  {
   "cell_type": "code",
   "execution_count": 93,
   "id": "c2e7b0c4",
   "metadata": {},
   "outputs": [],
   "source": [
    "ticker = 'UNH'\n",
    "period1 = int(time.mktime(datetime.datetime(2015, 1, 1).timetuple()))\n",
    "period2 = int(time.mktime(datetime.datetime(2023, 6, 1).timetuple()))\n",
    "interval = '1mo' \n",
    "\n",
    "query_string = f'https://query1.finance.yahoo.com/v7/finance/download/{ticker}?period1={period1}&period2={period2}&interval={interval}&events=history&includeAdjustedClose=true'\n",
    "\n",
    "united_stock = pd.read_csv(query_string)\n",
    "\n",
    "united_stock = united_stock[[\"Date\", \"Adj Close\", \"Volume\"]]\n",
    "united_stock = united_stock.set_index('Date')\n",
    "united_stock[\"press release\"] = np.nan"
   ]
  },
  {
   "cell_type": "code",
   "execution_count": 99,
   "id": "147ed297",
   "metadata": {},
   "outputs": [],
   "source": [
    "date = '2018-01-01'\n",
    "united_stock[\"press release\"].loc[date] = \"We enter 2018 with both growth momentum and opportunity, as a result of our focus on improving the experience of those we serve, combined with actions taken to deepen our capabilities and presence in strategic markets\""
   ]
  },
  {
   "cell_type": "code",
   "execution_count": 100,
   "id": "0d637a5a",
   "metadata": {},
   "outputs": [],
   "source": [
    "united_stock['Price change 12mo'] = np.nan\n",
    "for i in range(0, len(united_stock['Adj Close'])):\n",
    "    if isinstance(united_stock['press release'].iloc[i], str):\n",
    "        change = united_stock['Adj Close'].iloc[i+11] - united_stock['Adj Close'].iloc[i]\n",
    "        united_stock['Price change 12mo'].iloc[i] = change\n",
    "        \n",
    "united_stock['Price change 8mo'] = np.nan\n",
    "for i in range(0, len(united_stock['Adj Close'])):\n",
    "    if isinstance(united_stock['press release'].iloc[i], str):\n",
    "        change = united_stock['Adj Close'].iloc[i+8] - united_stock['Adj Close'].iloc[i]\n",
    "        united_stock['Price change 8mo'].iloc[i] = change\n",
    "        \n",
    "united_stock['Price change 4mo'] = np.nan\n",
    "for i in range(0, len(united_stock['Adj Close'])):\n",
    "    if isinstance(united_stock['press release'].iloc[i], str):\n",
    "        change = united_stock['Adj Close'].iloc[i+4] - united_stock['Adj Close'].iloc[i]\n",
    "        united_stock['Price change 4mo'].iloc[i] = change"
   ]
  },
  {
   "cell_type": "code",
   "execution_count": 101,
   "id": "d40add48",
   "metadata": {},
   "outputs": [],
   "source": [
    "#united_stock.to_csv('Datasets/united health dataset.csv')"
   ]
  },
  {
   "cell_type": "code",
   "execution_count": null,
   "id": "058707b0",
   "metadata": {},
   "outputs": [],
   "source": []
  },
  {
   "cell_type": "code",
   "execution_count": null,
   "id": "2fa923d6",
   "metadata": {},
   "outputs": [],
   "source": []
  },
  {
   "cell_type": "code",
   "execution_count": 102,
   "id": "851a7e77",
   "metadata": {},
   "outputs": [],
   "source": [
    "ticker = 'XOM'\n",
    "period1 = int(time.mktime(datetime.datetime(2015, 1, 1).timetuple()))\n",
    "period2 = int(time.mktime(datetime.datetime(2023, 6, 1).timetuple()))\n",
    "interval = '1mo' \n",
    "\n",
    "query_string = f'https://query1.finance.yahoo.com/v7/finance/download/{ticker}?period1={period1}&period2={period2}&interval={interval}&events=history&includeAdjustedClose=true'\n",
    "\n",
    "exxon_stock = pd.read_csv(query_string)\n",
    "\n",
    "exxon_stock = exxon_stock[[\"Date\", \"Adj Close\", \"Volume\"]]\n",
    "exxon_stock = exxon_stock.set_index('Date')\n",
    "exxon_stock[\"press release\"] = np.nan"
   ]
  },
  {
   "cell_type": "code",
   "execution_count": 107,
   "id": "b6d59fa6",
   "metadata": {},
   "outputs": [],
   "source": [
    "date = '2017-01-01'\n",
    "exxon_stock[\"press release\"].loc[date] = \"Our exploration success and strategic acquisitions made during a period of low commodity prices are adding high-quality resources that are among the lowest cost of supply in the industry. ExxonMobil’s portfolio of development opportunities positions us to grow shareholder value as we bring on new supplies of oil and natural gas to meet growing demand. \""
   ]
  },
  {
   "cell_type": "code",
   "execution_count": 108,
   "id": "c6b27105",
   "metadata": {},
   "outputs": [],
   "source": [
    "exxon_stock['Price change 12mo'] = np.nan\n",
    "for i in range(0, len(exxon_stock['Adj Close'])):\n",
    "    if isinstance(exxon_stock['press release'].iloc[i], str):\n",
    "        change = exxon_stock['Adj Close'].iloc[i+11] - exxon_stock['Adj Close'].iloc[i]\n",
    "        exxon_stock['Price change 12mo'].iloc[i] = change\n",
    "        \n",
    "exxon_stock['Price change 8mo'] = np.nan\n",
    "for i in range(0, len(exxon_stock['Adj Close'])):\n",
    "    if isinstance(exxon_stock['press release'].iloc[i], str):\n",
    "        change = exxon_stock['Adj Close'].iloc[i+8] - exxon_stock['Adj Close'].iloc[i]\n",
    "        exxon_stock['Price change 8mo'].iloc[i] = change\n",
    "        \n",
    "exxon_stock['Price change 4mo'] = np.nan\n",
    "for i in range(0, len(exxon_stock['Adj Close'])):\n",
    "    if isinstance(exxon_stock['press release'].iloc[i], str):\n",
    "        change = exxon_stock['Adj Close'].iloc[i+4] - exxon_stock['Adj Close'].iloc[i]\n",
    "        exxon_stock['Price change 4mo'].iloc[i] = change"
   ]
  },
  {
   "cell_type": "code",
   "execution_count": 109,
   "id": "d538475e",
   "metadata": {},
   "outputs": [],
   "source": [
    "#exxon_stock.to_csv('Datasets/exxon dataset.csv')"
   ]
  },
  {
   "cell_type": "code",
   "execution_count": null,
   "id": "5b841e3a",
   "metadata": {},
   "outputs": [],
   "source": []
  },
  {
   "cell_type": "code",
   "execution_count": null,
   "id": "1d33b1eb",
   "metadata": {},
   "outputs": [],
   "source": []
  },
  {
   "cell_type": "code",
   "execution_count": 111,
   "id": "cb66d929",
   "metadata": {},
   "outputs": [],
   "source": [
    "ticker = 'TSLA'\n",
    "period1 = int(time.mktime(datetime.datetime(2015, 1, 1).timetuple()))\n",
    "period2 = int(time.mktime(datetime.datetime(2023, 6, 1).timetuple()))\n",
    "interval = '1mo' \n",
    "\n",
    "query_string = f'https://query1.finance.yahoo.com/v7/finance/download/{ticker}?period1={period1}&period2={period2}&interval={interval}&events=history&includeAdjustedClose=true'\n",
    "\n",
    "tesla_stock = pd.read_csv(query_string)\n",
    "\n",
    "tesla_stock = tesla_stock[[\"Date\", \"Adj Close\", \"Volume\"]]\n",
    "tesla_stock = tesla_stock.set_index('Date')\n",
    "tesla_stock[\"press release\"] = np.nan"
   ]
  },
  {
   "cell_type": "code",
   "execution_count": 113,
   "id": "44f02be5",
   "metadata": {},
   "outputs": [],
   "source": [
    "date = '2019-01-01'\n",
    "tesla_stock[\"press release\"].loc[date] = \"\""
   ]
  },
  {
   "cell_type": "code",
   "execution_count": 116,
   "id": "98a007f3",
   "metadata": {},
   "outputs": [],
   "source": [
    "tesla_stock['Price change 12mo'] = np.nan\n",
    "for i in range(0, len(tesla_stock['Adj Close'])):\n",
    "    if isinstance(tesla_stock['press release'].iloc[i], str):\n",
    "        change = tesla_stock['Adj Close'].iloc[i+11] - tesla_stock['Adj Close'].iloc[i]\n",
    "        tesla_stock['Price change 12mo'].iloc[i] = change\n",
    "        \n",
    "tesla_stock['Price change 8mo'] = np.nan\n",
    "for i in range(0, len(tesla_stock['Adj Close'])):\n",
    "    if isinstance(tesla_stock['press release'].iloc[i], str):\n",
    "        change = tesla_stock['Adj Close'].iloc[i+8] - tesla_stock['Adj Close'].iloc[i]\n",
    "        tesla_stock['Price change 8mo'].iloc[i] = change\n",
    "        \n",
    "tesla_stock['Price change 4mo'] = np.nan\n",
    "for i in range(0, len(tesla_stock['Adj Close'])):\n",
    "    if isinstance(tesla_stock['press release'].iloc[i], str):\n",
    "        change = tesla_stock['Adj Close'].iloc[i+4] - tesla_stock['Adj Close'].iloc[i]\n",
    "        tesla_stock['Price change 4mo'].iloc[i] = change"
   ]
  },
  {
   "cell_type": "code",
   "execution_count": 117,
   "id": "5001a609",
   "metadata": {},
   "outputs": [],
   "source": [
    "#tesla_stock.to_csv('Datasets/tesla dataset.csv')"
   ]
  },
  {
   "cell_type": "code",
   "execution_count": null,
   "id": "9f87881b",
   "metadata": {},
   "outputs": [],
   "source": []
  },
  {
   "cell_type": "code",
   "execution_count": null,
   "id": "e46e0279",
   "metadata": {},
   "outputs": [],
   "source": []
  },
  {
   "cell_type": "code",
   "execution_count": 118,
   "id": "9057681c",
   "metadata": {},
   "outputs": [],
   "source": [
    "ticker = 'HD'\n",
    "period1 = int(time.mktime(datetime.datetime(2015, 1, 1).timetuple()))\n",
    "period2 = int(time.mktime(datetime.datetime(2023, 6, 1).timetuple()))\n",
    "interval = '1mo' \n",
    "\n",
    "query_string = f'https://query1.finance.yahoo.com/v7/finance/download/{ticker}?period1={period1}&period2={period2}&interval={interval}&events=history&includeAdjustedClose=true'\n",
    "\n",
    "home_stock = pd.read_csv(query_string)\n",
    "\n",
    "home_stock = home_stock[[\"Date\", \"Adj Close\", \"Volume\"]]\n",
    "home_stock = home_stock.set_index('Date')\n",
    "home_stock[\"press release\"] = np.nan"
   ]
  },
  {
   "cell_type": "code",
   "execution_count": 125,
   "id": "49669e3e",
   "metadata": {},
   "outputs": [],
   "source": [
    "date = '2018-02-01'\n",
    "home_stock[\"press release\"].loc[date] = \"Our ongoing commitment to enhance the interconnected retail experience for our customers, provide localized and innovative product, and deliver best in class productivity resulted in record sales and net earnings for 2017. I would like to thank our associates for their solid execution and exceptional work in service to our customers.\""
   ]
  },
  {
   "cell_type": "code",
   "execution_count": 126,
   "id": "8da7f828",
   "metadata": {},
   "outputs": [],
   "source": [
    "home_stock['Price change 12mo'] = np.nan\n",
    "for i in range(0, len(home_stock['Adj Close'])):\n",
    "    if isinstance(home_stock['press release'].iloc[i], str):\n",
    "        change = home_stock['Adj Close'].iloc[i+11] - home_stock['Adj Close'].iloc[i]\n",
    "        home_stock['Price change 12mo'].iloc[i] = change\n",
    "        \n",
    "home_stock['Price change 8mo'] = np.nan\n",
    "for i in range(0, len(home_stock['Adj Close'])):\n",
    "    if isinstance(home_stock['press release'].iloc[i], str):\n",
    "        change = home_stock['Adj Close'].iloc[i+8] - home_stock['Adj Close'].iloc[i]\n",
    "        home_stock['Price change 8mo'].iloc[i] = change\n",
    "        \n",
    "home_stock['Price change 4mo'] = np.nan\n",
    "for i in range(0, len(home_stock['Adj Close'])):\n",
    "    if isinstance(home_stock['press release'].iloc[i], str):\n",
    "        change = home_stock['Adj Close'].iloc[i+4] - home_stock['Adj Close'].iloc[i]\n",
    "        home_stock['Price change 4mo'].iloc[i] = change"
   ]
  },
  {
   "cell_type": "code",
   "execution_count": 127,
   "id": "e31c0cdd",
   "metadata": {},
   "outputs": [],
   "source": [
    "#home_stock.to_csv('Datasets/home dataset.csv')"
   ]
  },
  {
   "cell_type": "code",
   "execution_count": null,
   "id": "de335bd1",
   "metadata": {},
   "outputs": [],
   "source": []
  },
  {
   "cell_type": "code",
   "execution_count": null,
   "id": "2b16ce98",
   "metadata": {},
   "outputs": [],
   "source": []
  },
  {
   "cell_type": "code",
   "execution_count": 128,
   "id": "239a165d",
   "metadata": {},
   "outputs": [],
   "source": [
    "ticker = 'V'\n",
    "period1 = int(time.mktime(datetime.datetime(2015, 1, 1).timetuple()))\n",
    "period2 = int(time.mktime(datetime.datetime(2023, 6, 1).timetuple()))\n",
    "interval = '1mo' \n",
    "\n",
    "query_string = f'https://query1.finance.yahoo.com/v7/finance/download/{ticker}?period1={period1}&period2={period2}&interval={interval}&events=history&includeAdjustedClose=true'\n",
    "\n",
    "visa_stock = pd.read_csv(query_string)\n",
    "\n",
    "visa_stock = visa_stock[[\"Date\", \"Adj Close\", \"Volume\"]]\n",
    "visa_stock = visa_stock.set_index('Date')\n",
    "visa_stock[\"press release\"] = np.nan"
   ]
  },
  {
   "cell_type": "code",
   "execution_count": 134,
   "id": "02512bd6",
   "metadata": {},
   "outputs": [],
   "source": [
    "date = '2017-10-01'\n",
    "visa_stock[\"press release\"].loc[date] = \"Visa ended our fiscal year as we began, with strong growth across payments volume, cross-border volume and processed transactions, which was bolstered by the addition of Visa Europe. We’re very pleased with our progress in Europe and will continue to make strategic investments that will further strengthen our franchise there and globally. As we look ahead to fiscal 2018, we are positioned for sustained growth and remain confident in our ability to continue delivering strong shareholder value.\""
   ]
  },
  {
   "cell_type": "code",
   "execution_count": 135,
   "id": "e935dba5",
   "metadata": {},
   "outputs": [],
   "source": [
    "visa_stock['Price change 12mo'] = np.nan\n",
    "for i in range(0, len(visa_stock['Adj Close'])):\n",
    "    if isinstance(visa_stock['press release'].iloc[i], str):\n",
    "        change = visa_stock['Adj Close'].iloc[i+7] - visa_stock['Adj Close'].iloc[i]\n",
    "        visa_stock['Price change 12mo'].iloc[i] = change\n",
    "        \n",
    "visa_stock['Price change 8mo'] = np.nan\n",
    "for i in range(0, len(visa_stock['Adj Close'])):\n",
    "    if isinstance(visa_stock['press release'].iloc[i], str):\n",
    "        change = visa_stock['Adj Close'].iloc[i+5] - visa_stock['Adj Close'].iloc[i]\n",
    "        visa_stock['Price change 8mo'].iloc[i] = change\n",
    "        \n",
    "visa_stock['Price change 4mo'] = np.nan\n",
    "for i in range(0, len(visa_stock['Adj Close'])):\n",
    "    if isinstance(visa_stock['press release'].iloc[i], str):\n",
    "        change = visa_stock['Adj Close'].iloc[i+3] - visa_stock['Adj Close'].iloc[i]\n",
    "        visa_stock['Price change 4mo'].iloc[i] = change"
   ]
  },
  {
   "cell_type": "code",
   "execution_count": 136,
   "id": "7d1c57db",
   "metadata": {},
   "outputs": [],
   "source": [
    "#visa_stock.to_csv('Datasets/visa dataset.csv')"
   ]
  },
  {
   "cell_type": "code",
   "execution_count": null,
   "id": "609ef3f4",
   "metadata": {},
   "outputs": [],
   "source": []
  },
  {
   "cell_type": "code",
   "execution_count": 137,
   "id": "c50c6a5c",
   "metadata": {},
   "outputs": [],
   "source": [
    "ticker = 'AVGO'\n",
    "period1 = int(time.mktime(datetime.datetime(2015, 1, 1).timetuple()))\n",
    "period2 = int(time.mktime(datetime.datetime(2023, 6, 1).timetuple()))\n",
    "interval = '1mo' \n",
    "\n",
    "query_string = f'https://query1.finance.yahoo.com/v7/finance/download/{ticker}?period1={period1}&period2={period2}&interval={interval}&events=history&includeAdjustedClose=true'\n",
    "\n",
    "broadcom_stock = pd.read_csv(query_string)\n",
    "\n",
    "broadcom_stock = broadcom_stock[[\"Date\", \"Adj Close\", \"Volume\"]]\n",
    "broadcom_stock = broadcom_stock.set_index('Date')\n",
    "broadcom_stock[\"press release\"] = np.nan"
   ]
  },
  {
   "cell_type": "code",
   "execution_count": 147,
   "id": "7f4fd862",
   "metadata": {},
   "outputs": [],
   "source": [
    "date = '2018-10-01'\n",
    "broadcom_stock[\"press release\"].loc[date] = \"Strong operating performance in the fiscal fourth quarter caps a year of solid results that continues to reinforce the sustainability of our business model. Revenues grew 18% to nearly $21 billion on the back of strong demand for our networking, enterprise storage, wireless and industrial products while operating margin continued to progressively expand to 50%. Looking forward to fiscal year 2019, we expect another year of double digit revenue growth. Sustained demand within our semiconductor segment will be augmented by the newly acquired mainframe and enterprise software businesses to our infrastructure software segment. We also expect operating margin to hit another record in fiscal year 2019 driven by improved operating leverage.\""
   ]
  },
  {
   "cell_type": "code",
   "execution_count": 148,
   "id": "67406300",
   "metadata": {},
   "outputs": [],
   "source": [
    "broadcom_stock['Price change 12mo'] = np.nan\n",
    "for i in range(0, len(broadcom_stock['Adj Close'])):\n",
    "    if isinstance(broadcom_stock['press release'].iloc[i], str):\n",
    "        change = broadcom_stock['Adj Close'].iloc[i+7] - broadcom_stock['Adj Close'].iloc[i]\n",
    "        broadcom_stock['Price change 12mo'].iloc[i] = change\n",
    "        \n",
    "broadcom_stock['Price change 8mo'] = np.nan\n",
    "for i in range(0, len(broadcom_stock['Adj Close'])):\n",
    "    if isinstance(broadcom_stock['press release'].iloc[i], str):\n",
    "        change = broadcom_stock['Adj Close'].iloc[i+5] - broadcom_stock['Adj Close'].iloc[i]\n",
    "        broadcom_stock['Price change 8mo'].iloc[i] = change\n",
    "        \n",
    "broadcom_stock['Price change 4mo'] = np.nan\n",
    "for i in range(0, len(broadcom_stock['Adj Close'])):\n",
    "    if isinstance(broadcom_stock['press release'].iloc[i], str):\n",
    "        change = broadcom_stock['Adj Close'].iloc[i+3] - broadcom_stock['Adj Close'].iloc[i]\n",
    "        broadcom_stock['Price change 4mo'].iloc[i] = change"
   ]
  },
  {
   "cell_type": "code",
   "execution_count": 149,
   "id": "bb293c6f",
   "metadata": {},
   "outputs": [],
   "source": [
    "#broadcom_stock.to_csv('Datasets/broadcom dataset.csv')"
   ]
  },
  {
   "cell_type": "code",
   "execution_count": null,
   "id": "99f78b3c",
   "metadata": {},
   "outputs": [],
   "source": []
  },
  {
   "cell_type": "code",
   "execution_count": 150,
   "id": "06221e14",
   "metadata": {},
   "outputs": [],
   "source": [
    "ticker = 'KO'\n",
    "period1 = int(time.mktime(datetime.datetime(2015, 1, 1).timetuple()))\n",
    "period2 = int(time.mktime(datetime.datetime(2023, 6, 1).timetuple()))\n",
    "interval = '1mo' \n",
    "\n",
    "query_string = f'https://query1.finance.yahoo.com/v7/finance/download/{ticker}?period1={period1}&period2={period2}&interval={interval}&events=history&includeAdjustedClose=true'\n",
    "\n",
    "cola_stock = pd.read_csv(query_string)\n",
    "\n",
    "cola_stock = cola_stock[[\"Date\", \"Adj Close\", \"Volume\"]]\n",
    "cola_stock = cola_stock.set_index('Date')\n",
    "cola_stock[\"press release\"] = np.nan"
   ]
  },
  {
   "cell_type": "code",
   "execution_count": 155,
   "id": "27d9270c",
   "metadata": {},
   "outputs": [],
   "source": [
    "date = '2017-01-01'\n",
    "cola_stock[\"press release\"].loc[date] = \"I am pleased with our accomplishments and results in 2017. We achieved or exceeded our full year guidance while driving significant change as we continued to transform into a total beverage company. While there is still much work to do, I am encouraged by our momentum as we head into 2018.\""
   ]
  },
  {
   "cell_type": "code",
   "execution_count": 156,
   "id": "bf93e333",
   "metadata": {},
   "outputs": [],
   "source": [
    "cola_stock['Price change 12mo'] = np.nan\n",
    "for i in range(0, len(cola_stock['Adj Close'])):\n",
    "    if isinstance(cola_stock['press release'].iloc[i], str):\n",
    "        change = cola_stock['Adj Close'].iloc[i+11] - cola_stock['Adj Close'].iloc[i]\n",
    "        cola_stock['Price change 12mo'].iloc[i] = change\n",
    "        \n",
    "cola_stock['Price change 8mo'] = np.nan\n",
    "for i in range(0, len(cola_stock['Adj Close'])):\n",
    "    if isinstance(cola_stock['press release'].iloc[i], str):\n",
    "        change = cola_stock['Adj Close'].iloc[i+8] - cola_stock['Adj Close'].iloc[i]\n",
    "        cola_stock['Price change 8mo'].iloc[i] = change\n",
    "        \n",
    "cola_stock['Price change 4mo'] = np.nan\n",
    "for i in range(0, len(cola_stock['Adj Close'])):\n",
    "    if isinstance(cola_stock['press release'].iloc[i], str):\n",
    "        change = cola_stock['Adj Close'].iloc[i+4] - cola_stock['Adj Close'].iloc[i]\n",
    "        cola_stock['Price change 4mo'].iloc[i] = change"
   ]
  },
  {
   "cell_type": "code",
   "execution_count": 157,
   "id": "424f0cbd",
   "metadata": {},
   "outputs": [],
   "source": [
    "#cola_stock.to_csv('Datasets/cola dataset.csv')"
   ]
  },
  {
   "cell_type": "code",
   "execution_count": null,
   "id": "a99fee97",
   "metadata": {},
   "outputs": [],
   "source": []
  },
  {
   "cell_type": "code",
   "execution_count": 158,
   "id": "3202273b",
   "metadata": {},
   "outputs": [],
   "source": [
    "ticker = 'CVX'\n",
    "period1 = int(time.mktime(datetime.datetime(2015, 1, 1).timetuple()))\n",
    "period2 = int(time.mktime(datetime.datetime(2023, 6, 1).timetuple()))\n",
    "interval = '1mo' \n",
    "\n",
    "query_string = f'https://query1.finance.yahoo.com/v7/finance/download/{ticker}?period1={period1}&period2={period2}&interval={interval}&events=history&includeAdjustedClose=true'\n",
    "\n",
    "chevron_stock = pd.read_csv(query_string)\n",
    "\n",
    "chevron_stock = chevron_stock[[\"Date\", \"Adj Close\", \"Volume\"]]\n",
    "chevron_stock = chevron_stock.set_index('Date')\n",
    "chevron_stock[\"press release\"] = np.nan"
   ]
  },
  {
   "cell_type": "code",
   "execution_count": 163,
   "id": "65ec3c0f",
   "metadata": {},
   "outputs": [],
   "source": [
    "date = '2017-01-01'\n",
    "chevron_stock[\"press release\"].loc[date] = \"Earnings and cash flow grew significantly in 2017. We achieved our objective of being cash flow positive through deliberate actions to reduce capital expenditures, lower our cost structure, start and ramp-up projects, and conclude planned asset sales. Higher commodity prices helped as well. These improvements give us the confidence to increase the dividend by $0.04 per share, which puts us on track to make 2018 the 31st consecutive year with an increase in annual dividend payout. We replaced more than 150 percent of the reserves we produced, and reached several significant upstream project milestones in 2017\""
   ]
  },
  {
   "cell_type": "code",
   "execution_count": 164,
   "id": "3adc3fe2",
   "metadata": {},
   "outputs": [],
   "source": [
    "chevron_stock['Price change 12mo'] = np.nan\n",
    "for i in range(0, len(chevron_stock['Adj Close'])):\n",
    "    if isinstance(chevron_stock['press release'].iloc[i], str):\n",
    "        change = chevron_stock['Adj Close'].iloc[i+11] - chevron_stock['Adj Close'].iloc[i]\n",
    "        chevron_stock['Price change 12mo'].iloc[i] = change\n",
    "        \n",
    "chevron_stock['Price change 8mo'] = np.nan\n",
    "for i in range(0, len(chevron_stock['Adj Close'])):\n",
    "    if isinstance(chevron_stock['press release'].iloc[i], str):\n",
    "        change = chevron_stock['Adj Close'].iloc[i+8] - chevron_stock['Adj Close'].iloc[i]\n",
    "        chevron_stock['Price change 8mo'].iloc[i] = change\n",
    "        \n",
    "chevron_stock['Price change 4mo'] = np.nan\n",
    "for i in range(0, len(chevron_stock['Adj Close'])):\n",
    "    if isinstance(chevron_stock['press release'].iloc[i], str):\n",
    "        change = chevron_stock['Adj Close'].iloc[i+4] - chevron_stock['Adj Close'].iloc[i]\n",
    "        chevron_stock['Price change 4mo'].iloc[i] = change"
   ]
  },
  {
   "cell_type": "code",
   "execution_count": 165,
   "id": "2f5f4ad1",
   "metadata": {},
   "outputs": [],
   "source": [
    "#chevron_stock.to_csv('Datasets/chevron dataset.csv')"
   ]
  },
  {
   "cell_type": "code",
   "execution_count": null,
   "id": "00c48889",
   "metadata": {},
   "outputs": [],
   "source": []
  },
  {
   "cell_type": "code",
   "execution_count": 166,
   "id": "a1249cf7",
   "metadata": {},
   "outputs": [],
   "source": [
    "ticker = 'PFE'\n",
    "period1 = int(time.mktime(datetime.datetime(2015, 1, 1).timetuple()))\n",
    "period2 = int(time.mktime(datetime.datetime(2023, 6, 1).timetuple()))\n",
    "interval = '1mo' \n",
    "\n",
    "query_string = f'https://query1.finance.yahoo.com/v7/finance/download/{ticker}?period1={period1}&period2={period2}&interval={interval}&events=history&includeAdjustedClose=true'\n",
    "\n",
    "pfizer_stock = pd.read_csv(query_string)\n",
    "\n",
    "pfizer_stock = pfizer_stock[[\"Date\", \"Adj Close\", \"Volume\"]]\n",
    "pfizer_stock = pfizer_stock.set_index('Date')\n",
    "pfizer_stock[\"press release\"] = np.nan"
   ]
  },
  {
   "cell_type": "code",
   "execution_count": 171,
   "id": "049f6c8a",
   "metadata": {},
   "outputs": [],
   "source": [
    "date = '2018-01-01'\n",
    "pfizer_stock[\"press release\"].loc[date] = \"Pfizer had a strong year in 2017, delivering solid financial results, advancing several significant pipeline programs and enhancing shareholder value with prudent capital allocation decisions. Regarding our revenue performance in 2017, Pfizer Innovative Health was driven by continued strength from several anchor brands, including Ibrance, Eliquis and Xeljanz -- all of which currently have market-leading positions with many years of patent protection remaining. Pfizer Essential Health generated strong operational revenue growth in emerging markets and in our Biosimilars portfolio but was negatively. impacted by the HIS divestiture, the expected impact of product losses of exclusivity and legacy Hospira product shortages in the U.S. In 2017, we received ten approvals from the FDA, significantly more than Pfizer has achieved in any year in the past decade. Building on these achievements, during 2018 we look forward to important regulatory decisions and clinical data readouts across our pipeline that will drive the next wave of innovation at Pfizer. I believe our capital allocation decisions in 2017 enhanced shareholder value. In addition to investing in our business, we also returned $12.7 billion directly to shareholders through a combination of dividends and share repurchases and we decided to explore potential strategic alternatives for our Consumer Healthcare business. We remain on track to make this decision, which could include everything from a full or partial separation to ultimately deciding to retain the business, during 2018. I believe our current management and business structure, the tireless dedication of our colleagues and the strong culture we have nurtured position Pfizer especially well for continued success. Overall, I am pleased with our 2017 financial performance. Despite absorbing a $2.1 billion impact from products that recently lost marketing exclusivity, we were still able to achieve 1% operational revenue growth in 2017 after excluding the net impact of acquisitions and divestitures completed in 2016 and 2017. We also delivered Adjusted diluted EPS(2) growth of 11% in 2017, primarily reflecting a lower effective tax rate due to tax reform, strong performance of key products, continued success in managing our operating expenses and the net impact of our share repurchases.\""
   ]
  },
  {
   "cell_type": "code",
   "execution_count": 172,
   "id": "010b15ce",
   "metadata": {},
   "outputs": [],
   "source": [
    "pfizer_stock['Price change 12mo'] = np.nan\n",
    "for i in range(0, len(pfizer_stock['Adj Close'])):\n",
    "    if isinstance(pfizer_stock['press release'].iloc[i], str):\n",
    "        change = pfizer_stock['Adj Close'].iloc[i+11] - pfizer_stock['Adj Close'].iloc[i]\n",
    "        pfizer_stock['Price change 12mo'].iloc[i] = change\n",
    "        \n",
    "pfizer_stock['Price change 8mo'] = np.nan\n",
    "for i in range(0, len(pfizer_stock['Adj Close'])):\n",
    "    if isinstance(pfizer_stock['press release'].iloc[i], str):\n",
    "        change = pfizer_stock['Adj Close'].iloc[i+8] - pfizer_stock['Adj Close'].iloc[i]\n",
    "        pfizer_stock['Price change 8mo'].iloc[i] = change\n",
    "        \n",
    "pfizer_stock['Price change 4mo'] = np.nan\n",
    "for i in range(0, len(pfizer_stock['Adj Close'])):\n",
    "    if isinstance(pfizer_stock['press release'].iloc[i], str):\n",
    "        change = pfizer_stock['Adj Close'].iloc[i+4] - pfizer_stock['Adj Close'].iloc[i]\n",
    "        pfizer_stock['Price change 4mo'].iloc[i] = change"
   ]
  },
  {
   "cell_type": "code",
   "execution_count": 173,
   "id": "a7c32866",
   "metadata": {},
   "outputs": [],
   "source": [
    "#pfizer_stock.to_csv('Datasets/pfizer dataset.csv')"
   ]
  },
  {
   "cell_type": "code",
   "execution_count": null,
   "id": "3b5b7d1b",
   "metadata": {},
   "outputs": [],
   "source": []
  },
  {
   "cell_type": "code",
   "execution_count": 175,
   "id": "1daf5c8f",
   "metadata": {},
   "outputs": [],
   "source": [
    "ticker = 'CRM'\n",
    "period1 = int(time.mktime(datetime.datetime(2015, 1, 1).timetuple()))\n",
    "period2 = int(time.mktime(datetime.datetime(2023, 6, 1).timetuple()))\n",
    "interval = '1mo' \n",
    "\n",
    "query_string = f'https://query1.finance.yahoo.com/v7/finance/download/{ticker}?period1={period1}&period2={period2}&interval={interval}&events=history&includeAdjustedClose=true'\n",
    "\n",
    "salesforce_stock = pd.read_csv(query_string)\n",
    "\n",
    "salesforce_stock = salesforce_stock[[\"Date\", \"Adj Close\", \"Volume\"]]\n",
    "salesforce_stock = salesforce_stock.set_index('Date')\n",
    "salesforce_stock[\"press release\"] = np.nan"
   ]
  },
  {
   "cell_type": "code",
   "execution_count": 181,
   "id": "75fcc708",
   "metadata": {},
   "outputs": [],
   "source": [
    "date = '2018-02-01'\n",
    "salesforce_stock[\"press release\"].loc[date] = \"We had an outstanding quarter of growth that propelled Salesforce over the $10 billion revenue milestone for the year. No other enterprise software company has achieved this scale faster than Salesforce. Our relentless focus on customer success continues to strengthen our position as the global leader in CRM.\""
   ]
  },
  {
   "cell_type": "code",
   "execution_count": 182,
   "id": "01694f5a",
   "metadata": {},
   "outputs": [],
   "source": [
    "salesforce_stock['Price change 12mo'] = np.nan\n",
    "for i in range(0, len(salesforce_stock['Adj Close'])):\n",
    "    if isinstance(salesforce_stock['press release'].iloc[i], str):\n",
    "        change = salesforce_stock['Adj Close'].iloc[i+11] - salesforce_stock['Adj Close'].iloc[i]\n",
    "        salesforce_stock['Price change 12mo'].iloc[i] = change\n",
    "        \n",
    "salesforce_stock['Price change 8mo'] = np.nan\n",
    "for i in range(0, len(salesforce_stock['Adj Close'])):\n",
    "    if isinstance(salesforce_stock['press release'].iloc[i], str):\n",
    "        change = salesforce_stock['Adj Close'].iloc[i+8] - salesforce_stock['Adj Close'].iloc[i]\n",
    "        salesforce_stock['Price change 8mo'].iloc[i] = change\n",
    "        \n",
    "salesforce_stock['Price change 4mo'] = np.nan\n",
    "for i in range(0, len(salesforce_stock['Adj Close'])):\n",
    "    if isinstance(salesforce_stock['press release'].iloc[i], str):\n",
    "        change = salesforce_stock['Adj Close'].iloc[i+4] - salesforce_stock['Adj Close'].iloc[i]\n",
    "        salesforce_stock['Price change 4mo'].iloc[i] = change"
   ]
  },
  {
   "cell_type": "code",
   "execution_count": 183,
   "id": "f63fd2ad",
   "metadata": {},
   "outputs": [],
   "source": [
    "#salesforce_stock.to_csv('Datasets/salesforce dataset.csv')"
   ]
  },
  {
   "cell_type": "code",
   "execution_count": null,
   "id": "27223828",
   "metadata": {},
   "outputs": [],
   "source": []
  },
  {
   "cell_type": "code",
   "execution_count": 184,
   "id": "8e605e9c",
   "metadata": {},
   "outputs": [],
   "source": [
    "ticker = 'WMT'\n",
    "period1 = int(time.mktime(datetime.datetime(2015, 1, 1).timetuple()))\n",
    "period2 = int(time.mktime(datetime.datetime(2023, 6, 1).timetuple()))\n",
    "interval = '1mo' \n",
    "\n",
    "query_string = f'https://query1.finance.yahoo.com/v7/finance/download/{ticker}?period1={period1}&period2={period2}&interval={interval}&events=history&includeAdjustedClose=true'\n",
    "\n",
    "wallmart_stock = pd.read_csv(query_string)\n",
    "\n",
    "wallmart_stock = wallmart_stock[[\"Date\", \"Adj Close\", \"Volume\"]]\n",
    "wallmart_stock = wallmart_stock.set_index('Date')\n",
    "wallmart_stock[\"press release\"] = np.nan"
   ]
  },
  {
   "cell_type": "code",
   "execution_count": 306,
   "id": "c88829f4",
   "metadata": {},
   "outputs": [],
   "source": [
    "date = '2022-02-01'\n",
    "wallmart_stock[\"press release\"].loc[date] = \"Walmart's first quarter net sales increased 0.8 percent over last year. Like other retailers in the United States, the unseasonably cold and disruptive weather negatively impacted U.S. sales and drove operating expenses higher than expected, Walmart's underlying business is solid, and I'm confident in our long-term strategies. We'll continue to invest in price and enhance our service to improve sales,\" \"We remain focused on growth across the enterprise, especially in small formats like Neighborhood Market in the U.S. We have the opportunity to create transformative growth through stronger e-commerce capabilities,\" \"Our investments are focused on improving customer experience and fulfillment capacity. We're working to deliver a relevant, personalized and seamless customer experience across all channels to further grow sales.\""
   ]
  },
  {
   "cell_type": "code",
   "execution_count": 307,
   "id": "5f693d15",
   "metadata": {},
   "outputs": [],
   "source": [
    "wallmart_stock['Price change 12mo'] = np.nan\n",
    "for i in range(0, len(wallmart_stock['Adj Close'])):\n",
    "    if isinstance(wallmart_stock['press release'].iloc[i], str):\n",
    "        change = wallmart_stock['Adj Close'].iloc[i] - wallmart_stock['Adj Close'].iloc[i+11]\n",
    "        wallmart_stock['Price change 12mo'].iloc[i] = change\n",
    "        \n",
    "wallmart_stock['Price change 8mo'] = np.nan\n",
    "for i in range(0, len(wallmart_stock['Adj Close'])):\n",
    "    if isinstance(wallmart_stock['press release'].iloc[i], str):\n",
    "        change = wallmart_stock['Adj Close'].iloc[i] - wallmart_stock['Adj Close'].iloc[i+8]\n",
    "        wallmart_stock['Price change 8mo'].iloc[i] = change\n",
    "        \n",
    "wallmart_stock['Price change 4mo'] = np.nan\n",
    "for i in range(0, len(wallmart_stock['Adj Close'])):\n",
    "    if isinstance(wallmart_stock['press release'].iloc[i], str):\n",
    "        change = wallmart_stock['Adj Close'].iloc[i] - wallmart_stock['Adj Close'].iloc[i+4]\n",
    "        wallmart_stock['Price change 4mo'].iloc[i] = change"
   ]
  },
  {
   "cell_type": "code",
   "execution_count": 308,
   "id": "df869091",
   "metadata": {},
   "outputs": [],
   "source": [
    "#wallmart_stock.to_csv('Datasets/wallmart dataset.csv')"
   ]
  },
  {
   "cell_type": "code",
   "execution_count": null,
   "id": "b1e97d2d",
   "metadata": {},
   "outputs": [],
   "source": []
  },
  {
   "cell_type": "code",
   "execution_count": 185,
   "id": "99223330",
   "metadata": {},
   "outputs": [],
   "source": [
    "ticker = 'MCD'\n",
    "period1 = int(time.mktime(datetime.datetime(2015, 1, 1).timetuple()))\n",
    "period2 = int(time.mktime(datetime.datetime(2023, 6, 1).timetuple()))\n",
    "interval = '1mo' \n",
    "\n",
    "query_string = f'https://query1.finance.yahoo.com/v7/finance/download/{ticker}?period1={period1}&period2={period2}&interval={interval}&events=history&includeAdjustedClose=true'\n",
    "\n",
    "mcdonalds_stock = pd.read_csv(query_string)\n",
    "\n",
    "mcdonalds_stock = mcdonalds_stock[[\"Date\", \"Adj Close\", \"Volume\"]]\n",
    "mcdonalds_stock = mcdonalds_stock.set_index('Date')\n",
    "mcdonalds_stock[\"press release\"] = np.nan"
   ]
  },
  {
   "cell_type": "code",
   "execution_count": 190,
   "id": "f3a1321f",
   "metadata": {},
   "outputs": [],
   "source": [
    "date = '2018-01-01'\n",
    "mcdonalds_stock[\"press release\"].loc[date] = \"2017 was a strong year for McDonald’s as customers responded to the many ways we are making their experience more convenient and enjoyable. We served more customers more often, achieved our best comparable sales performance in six years, gained share in markets around the world and made tremendous progress with growth platforms such as delivery, mobile order and pay and Experience of the Future. For 2018, we plan to invest about $2.4 billion of capital, the majority of which will be dedicated to reinvesting in our existing locations through accelerated deployment of Experience of the Future in the U.S. Our development plans also include the opening of about 1,000 new McDonald’s restaurants, 75% of which will be funded by our expanded network of developmental licensees and affiliates around the world. At the same time, we plan to continue making meaningful investments in technology to modernize the customer experience and redefine convenience. I’m confident that now is the opportune time to strategically invest in our business and our restaurants to drive profitable growth and become an even better McDonald’s. Our Velocity Growth Plan is working and we’re focused on aggressive execution in 2018 to achieve the even greater ambitions we have for our business and brand in the years ahead. With the commitment the McDonald’s system has to running great restaurants and maximizing our growth initiatives, we are confident that we will accelerate our momentum by capitalizing on our strong business model and distinct brand advantages in convenience, menu variety and value.\""
   ]
  },
  {
   "cell_type": "code",
   "execution_count": 191,
   "id": "8af317cd",
   "metadata": {},
   "outputs": [],
   "source": [
    "mcdonalds_stock['Price change 12mo'] = np.nan\n",
    "for i in range(0, len(mcdonalds_stock['Adj Close'])):\n",
    "    if isinstance(mcdonalds_stock['press release'].iloc[i], str):\n",
    "        change = mcdonalds_stock['Adj Close'].iloc[i+11] - mcdonalds_stock['Adj Close'].iloc[i]\n",
    "        mcdonalds_stock['Price change 12mo'].iloc[i] = change\n",
    "        \n",
    "mcdonalds_stock['Price change 8mo'] = np.nan\n",
    "for i in range(0, len(mcdonalds_stock['Adj Close'])):\n",
    "    if isinstance(mcdonalds_stock['press release'].iloc[i], str):\n",
    "        change = mcdonalds_stock['Adj Close'].iloc[i+8] - mcdonalds_stock['Adj Close'].iloc[i]\n",
    "        mcdonalds_stock['Price change 8mo'].iloc[i] = change\n",
    "        \n",
    "mcdonalds_stock['Price change 4mo'] = np.nan\n",
    "for i in range(0, len(mcdonalds_stock['Adj Close'])):\n",
    "    if isinstance(mcdonalds_stock['press release'].iloc[i], str):\n",
    "        change = mcdonalds_stock['Adj Close'].iloc[i+4] - mcdonalds_stock['Adj Close'].iloc[i]\n",
    "        mcdonalds_stock['Price change 4mo'].iloc[i] = change"
   ]
  },
  {
   "cell_type": "code",
   "execution_count": 192,
   "id": "41798f7c",
   "metadata": {},
   "outputs": [],
   "source": [
    "#mcdonalds_stock.to_csv('Datasets/mcdonalds dataset.csv')"
   ]
  },
  {
   "cell_type": "code",
   "execution_count": null,
   "id": "d52a55ba",
   "metadata": {},
   "outputs": [],
   "source": []
  },
  {
   "cell_type": "code",
   "execution_count": 194,
   "id": "11ef93c7",
   "metadata": {},
   "outputs": [],
   "source": [
    "ticker = 'ADBE'\n",
    "period1 = int(time.mktime(datetime.datetime(2015, 1, 1).timetuple()))\n",
    "period2 = int(time.mktime(datetime.datetime(2023, 6, 1).timetuple()))\n",
    "interval = '1mo' \n",
    "\n",
    "query_string = f'https://query1.finance.yahoo.com/v7/finance/download/{ticker}?period1={period1}&period2={period2}&interval={interval}&events=history&includeAdjustedClose=true'\n",
    "\n",
    "adobe_stock = pd.read_csv(query_string)\n",
    "\n",
    "adobe_stock = adobe_stock[[\"Date\", \"Adj Close\", \"Volume\"]]\n",
    "adobe_stock = adobe_stock.set_index('Date')\n",
    "adobe_stock[\"press release\"] = np.nan"
   ]
  },
  {
   "cell_type": "code",
   "execution_count": 199,
   "id": "37c9f303",
   "metadata": {},
   "outputs": [],
   "source": [
    "date = '2018-01-01'\n",
    "adobe_stock[\"press release\"].loc[date] = \"Adobe delivered record revenue of $2 billion in Q4. Our strong business momentum is driven by the market-leading solutions we provide to empower people to create and businesses to digitally transform. Adobe achieved record annual and quarterly revenue, and the leverage in our business model once again drove record profit and earnings. We are raising our fiscal 2018 revenue target and remain bullish about delivering strong top line and bottom line growth.\""
   ]
  },
  {
   "cell_type": "code",
   "execution_count": 200,
   "id": "5682c131",
   "metadata": {},
   "outputs": [],
   "source": [
    "adobe_stock['Price change 12mo'] = np.nan\n",
    "for i in range(0, len(adobe_stock['Adj Close'])):\n",
    "    if isinstance(adobe_stock['press release'].iloc[i], str):\n",
    "        change = adobe_stock['Adj Close'].iloc[i+11] - adobe_stock['Adj Close'].iloc[i]\n",
    "        adobe_stock['Price change 12mo'].iloc[i] = change\n",
    "        \n",
    "adobe_stock['Price change 8mo'] = np.nan\n",
    "for i in range(0, len(adobe_stock['Adj Close'])):\n",
    "    if isinstance(adobe_stock['press release'].iloc[i], str):\n",
    "        change = adobe_stock['Adj Close'].iloc[i+8] - adobe_stock['Adj Close'].iloc[i]\n",
    "        adobe_stock['Price change 8mo'].iloc[i] = change\n",
    "        \n",
    "adobe_stock['Price change 4mo'] = np.nan\n",
    "for i in range(0, len(adobe_stock['Adj Close'])):\n",
    "    if isinstance(adobe_stock['press release'].iloc[i], str):\n",
    "        change = adobe_stock['Adj Close'].iloc[i+4] - adobe_stock['Adj Close'].iloc[i]\n",
    "        adobe_stock['Price change 4mo'].iloc[i] = change"
   ]
  },
  {
   "cell_type": "code",
   "execution_count": 201,
   "id": "29ceee47",
   "metadata": {},
   "outputs": [],
   "source": [
    "#adobe_stock.to_csv('Datasets/adobe dataset.csv')"
   ]
  },
  {
   "cell_type": "code",
   "execution_count": null,
   "id": "402b8555",
   "metadata": {},
   "outputs": [],
   "source": []
  },
  {
   "cell_type": "code",
   "execution_count": 202,
   "id": "1b44f9d4",
   "metadata": {},
   "outputs": [],
   "source": [
    "ticker = 'ORCL'\n",
    "period1 = int(time.mktime(datetime.datetime(2015, 1, 1).timetuple()))\n",
    "period2 = int(time.mktime(datetime.datetime(2023, 6, 1).timetuple()))\n",
    "interval = '1mo' \n",
    "\n",
    "query_string = f'https://query1.finance.yahoo.com/v7/finance/download/{ticker}?period1={period1}&period2={period2}&interval={interval}&events=history&includeAdjustedClose=true'\n",
    "\n",
    "oracle_stock = pd.read_csv(query_string)\n",
    "\n",
    "oracle_stock = oracle_stock[[\"Date\", \"Adj Close\", \"Volume\"]]\n",
    "oracle_stock = oracle_stock.set_index('Date')\n",
    "oracle_stock[\"press release\"] = np.nan"
   ]
  },
  {
   "cell_type": "code",
   "execution_count": 207,
   "id": "be664c88",
   "metadata": {},
   "outputs": [],
   "source": [
    "date = '2018-06-01'\n",
    "oracle_stock[\"press release\"].loc[date] = \"Last year, I forecast double-digit non-GAAP earnings per share growth for FY18 and we delivered 14% growth this year, largely driven by strong growth in our cloud businesses. Looking ahead to FY19, I expect revenue growth will enable us to deliver double-digit non-GAAP earnings per share growth once again. We had a great fourth quarter with total revenues more than $200 million above our constant currency forecast. Our strategic Fusion ERP and HCM SaaS cloud applications suite revenues grew over 50% in the fourth quarter, and we expect continued strong growth from our Fusion SaaS suites throughout FY19.\""
   ]
  },
  {
   "cell_type": "code",
   "execution_count": 208,
   "id": "2d1e5ea6",
   "metadata": {},
   "outputs": [],
   "source": [
    "oracle_stock['Price change 12mo'] = np.nan\n",
    "for i in range(0, len(oracle_stock['Adj Close'])):\n",
    "    if isinstance(oracle_stock['press release'].iloc[i], str):\n",
    "        change = oracle_stock['Adj Close'].iloc[i+11] - oracle_stock['Adj Close'].iloc[i]\n",
    "        oracle_stock['Price change 12mo'].iloc[i] = change\n",
    "        \n",
    "oracle_stock['Price change 8mo'] = np.nan\n",
    "for i in range(0, len(oracle_stock['Adj Close'])):\n",
    "    if isinstance(oracle_stock['press release'].iloc[i], str):\n",
    "        change = oracle_stock['Adj Close'].iloc[i+8] - oracle_stock['Adj Close'].iloc[i]\n",
    "        oracle_stock['Price change 8mo'].iloc[i] = change\n",
    "        \n",
    "oracle_stock['Price change 4mo'] = np.nan\n",
    "for i in range(0, len(oracle_stock['Adj Close'])):\n",
    "    if isinstance(oracle_stock['press release'].iloc[i], str):\n",
    "        change = oracle_stock['Adj Close'].iloc[i+4] - oracle_stock['Adj Close'].iloc[i]\n",
    "        oracle_stock['Price change 4mo'].iloc[i] = change"
   ]
  },
  {
   "cell_type": "code",
   "execution_count": 209,
   "id": "c283ce53",
   "metadata": {},
   "outputs": [],
   "source": [
    "#oracle_stock.to_csv('Datasets/oracle dataset.csv')"
   ]
  },
  {
   "cell_type": "code",
   "execution_count": null,
   "id": "0a74ab17",
   "metadata": {},
   "outputs": [],
   "source": []
  },
  {
   "cell_type": "code",
   "execution_count": 210,
   "id": "5c3209d0",
   "metadata": {},
   "outputs": [],
   "source": [
    "ticker = 'AMD'\n",
    "period1 = int(time.mktime(datetime.datetime(2015, 1, 1).timetuple()))\n",
    "period2 = int(time.mktime(datetime.datetime(2023, 6, 1).timetuple()))\n",
    "interval = '1mo' \n",
    "\n",
    "query_string = f'https://query1.finance.yahoo.com/v7/finance/download/{ticker}?period1={period1}&period2={period2}&interval={interval}&events=history&includeAdjustedClose=true'\n",
    "\n",
    "amd_stock = pd.read_csv(query_string)\n",
    "\n",
    "amd_stock = amd_stock[[\"Date\", \"Adj Close\", \"Volume\"]]\n",
    "amd_stock = amd_stock.set_index('Date')\n",
    "amd_stock[\"press release\"] = np.nan"
   ]
  },
  {
   "cell_type": "code",
   "execution_count": 218,
   "id": "f0694c38",
   "metadata": {},
   "outputs": [],
   "source": [
    "date = '2018-01-01'\n",
    "amd_stock[\"press release\"].loc[date] = \"2017 marked a key inflection point for AMD as we re-shaped our product portfolio, delivered 25 percent annual revenue growth, expanded gross margin and achieved full-year profitability. We are even more excited about 2018 as we launch our next wave of high-performance products and continue to position AMD as one of the premier long-term growth companies in the technology industry.\""
   ]
  },
  {
   "cell_type": "code",
   "execution_count": 219,
   "id": "e2bed12e",
   "metadata": {},
   "outputs": [],
   "source": [
    "amd_stock['Price change 12mo'] = np.nan\n",
    "for i in range(0, len(amd_stock['Adj Close'])):\n",
    "    if isinstance(amd_stock['press release'].iloc[i], str):\n",
    "        change = amd_stock['Adj Close'].iloc[i+11] - amd_stock['Adj Close'].iloc[i]\n",
    "        amd_stock['Price change 12mo'].iloc[i] = change\n",
    "        \n",
    "amd_stock['Price change 8mo'] = np.nan\n",
    "for i in range(0, len(amd_stock['Adj Close'])):\n",
    "    if isinstance(amd_stock['press release'].iloc[i], str):\n",
    "        change = amd_stock['Adj Close'].iloc[i+8] - amd_stock['Adj Close'].iloc[i]\n",
    "        amd_stock['Price change 8mo'].iloc[i] = change\n",
    "        \n",
    "amd_stock['Price change 4mo'] = np.nan\n",
    "for i in range(0, len(amd_stock['Adj Close'])):\n",
    "    if isinstance(amd_stock['press release'].iloc[i], str):\n",
    "        change = amd_stock['Adj Close'].iloc[i+4] - amd_stock['Adj Close'].iloc[i]\n",
    "        amd_stock['Price change 4mo'].iloc[i] = change"
   ]
  },
  {
   "cell_type": "code",
   "execution_count": 220,
   "id": "6940d581",
   "metadata": {},
   "outputs": [],
   "source": [
    "#amd_stock.to_csv('Datasets/amd dataset.csv')"
   ]
  },
  {
   "cell_type": "code",
   "execution_count": null,
   "id": "3ea7b07a",
   "metadata": {},
   "outputs": [],
   "source": []
  },
  {
   "cell_type": "code",
   "execution_count": 221,
   "id": "7a03bfdb",
   "metadata": {},
   "outputs": [],
   "source": [
    "ticker = 'CSCO'\n",
    "period1 = int(time.mktime(datetime.datetime(2015, 1, 1).timetuple()))\n",
    "period2 = int(time.mktime(datetime.datetime(2023, 6, 1).timetuple()))\n",
    "interval = '1mo' \n",
    "\n",
    "query_string = f'https://query1.finance.yahoo.com/v7/finance/download/{ticker}?period1={period1}&period2={period2}&interval={interval}&events=history&includeAdjustedClose=true'\n",
    "\n",
    "cisco_stock = pd.read_csv(query_string)\n",
    "\n",
    "cisco_stock = cisco_stock[[\"Date\", \"Adj Close\", \"Volume\"]]\n",
    "cisco_stock = cisco_stock.set_index('Date')\n",
    "cisco_stock[\"press release\"] = np.nan"
   ]
  },
  {
   "cell_type": "code",
   "execution_count": 227,
   "id": "fe8cce9e",
   "metadata": {},
   "outputs": [],
   "source": [
    "date = '2018-08-01'\n",
    "cisco_stock[\"press release\"].loc[date] = \"We had a very strong finish to a great year and generated our highest quarterly revenue of $12.8 billion. Our results demonstrate a combination of strong customer adoption of our latest innovations, the ongoing value customers see in our software and subscription offerings, and excellent execution across our customer segments and geographies. Our strategy is working and we believe that are well-positioned to capture growth across our portfolio with our pipeline of innovation.\""
   ]
  },
  {
   "cell_type": "code",
   "execution_count": 229,
   "id": "2e09fd08",
   "metadata": {},
   "outputs": [],
   "source": [
    "cisco_stock['Price change 12mo'] = np.nan\n",
    "for i in range(0, len(cisco_stock['Adj Close'])):\n",
    "    if isinstance(cisco_stock['press release'].iloc[i], str):\n",
    "        change = cisco_stock['Adj Close'].iloc[i+9] - cisco_stock['Adj Close'].iloc[i]\n",
    "        cisco_stock['Price change 12mo'].iloc[i] = change\n",
    "        \n",
    "cisco_stock['Price change 8mo'] = np.nan\n",
    "for i in range(0, len(cisco_stock['Adj Close'])):\n",
    "    if isinstance(cisco_stock['press release'].iloc[i], str):\n",
    "        change = cisco_stock['Adj Close'].iloc[i+6] - cisco_stock['Adj Close'].iloc[i]\n",
    "        cisco_stock['Price change 8mo'].iloc[i] = change\n",
    "        \n",
    "cisco_stock['Price change 4mo'] = np.nan\n",
    "for i in range(0, len(cisco_stock['Adj Close'])):\n",
    "    if isinstance(cisco_stock['press release'].iloc[i], str):\n",
    "        change = cisco_stock['Adj Close'].iloc[i+3] - cisco_stock['Adj Close'].iloc[i]\n",
    "        cisco_stock['Price change 4mo'].iloc[i] = change"
   ]
  },
  {
   "cell_type": "code",
   "execution_count": 230,
   "id": "d7137436",
   "metadata": {},
   "outputs": [],
   "source": [
    "#cisco_stock.to_csv('Datasets/cisco dataset.csv')"
   ]
  },
  {
   "cell_type": "code",
   "execution_count": null,
   "id": "fbc31f74",
   "metadata": {},
   "outputs": [],
   "source": []
  },
  {
   "cell_type": "code",
   "execution_count": 232,
   "id": "ed80d155",
   "metadata": {},
   "outputs": [],
   "source": [
    "ticker = 'TMO'\n",
    "period1 = int(time.mktime(datetime.datetime(2015, 1, 1).timetuple()))\n",
    "period2 = int(time.mktime(datetime.datetime(2023, 6, 1).timetuple()))\n",
    "interval = '1mo' \n",
    "\n",
    "query_string = f'https://query1.finance.yahoo.com/v7/finance/download/{ticker}?period1={period1}&period2={period2}&interval={interval}&events=history&includeAdjustedClose=true'\n",
    "\n",
    "thermo_stock = pd.read_csv(query_string)\n",
    "\n",
    "thermo_stock = thermo_stock[[\"Date\", \"Adj Close\", \"Volume\"]]\n",
    "thermo_stock = thermo_stock.set_index('Date')\n",
    "thermo_stock[\"press release\"] = np.nan"
   ]
  },
  {
   "cell_type": "code",
   "execution_count": 237,
   "id": "366298be",
   "metadata": {},
   "outputs": [],
   "source": [
    "date = '2018-01-01'\n",
    "thermo_stock[\"press release\"].loc[date] = \"We’re pleased to deliver an excellent 2017, with a very strong finish in the fourth quarter that capped off another outstanding year. Our performance demonstrates the continued success of our proven growth strategy and great execution by our teams. Among the highlights of 2017, we launched innovative new products in our key technology platforms, and enabled breakthroughs in proteomics, genetic analysis and structural biology. We continued to leverage our industry-leading scale to deliver strong performance in high-growth emerging markets, particularly China, India and South Korea. It was also a very active year for strategic M&A. We significantly enhanced our value proposition with the addition of Patheon’s leading services offering for pharma and biotech customers. We’re in an excellent position as we begin 2018, and we’re energized about our prospects for the future.\""
   ]
  },
  {
   "cell_type": "code",
   "execution_count": 238,
   "id": "67cdc729",
   "metadata": {},
   "outputs": [],
   "source": [
    "thermo_stock['Price change 12mo'] = np.nan\n",
    "for i in range(0, len(thermo_stock['Adj Close'])):\n",
    "    if isinstance(thermo_stock['press release'].iloc[i], str):\n",
    "        change = thermo_stock['Adj Close'].iloc[i+9] - thermo_stock['Adj Close'].iloc[i]\n",
    "        thermo_stock['Price change 12mo'].iloc[i] = change\n",
    "        \n",
    "thermo_stock['Price change 8mo'] = np.nan\n",
    "for i in range(0, len(thermo_stock['Adj Close'])):\n",
    "    if isinstance(thermo_stock['press release'].iloc[i], str):\n",
    "        change = thermo_stock['Adj Close'].iloc[i+6] - thermo_stock['Adj Close'].iloc[i]\n",
    "        thermo_stock['Price change 8mo'].iloc[i] = change\n",
    "        \n",
    "thermo_stock['Price change 4mo'] = np.nan\n",
    "for i in range(0, len(thermo_stock['Adj Close'])):\n",
    "    if isinstance(thermo_stock['press release'].iloc[i], str):\n",
    "        change = thermo_stock['Adj Close'].iloc[i+3] - thermo_stock['Adj Close'].iloc[i]\n",
    "        thermo_stock['Price change 4mo'].iloc[i] = change"
   ]
  },
  {
   "cell_type": "code",
   "execution_count": 239,
   "id": "f236bcf8",
   "metadata": {},
   "outputs": [],
   "source": [
    "#thermo_stock.to_csv('Datasets/thermo dataset.csv')"
   ]
  },
  {
   "cell_type": "code",
   "execution_count": null,
   "id": "8dc3a006",
   "metadata": {},
   "outputs": [],
   "source": []
  },
  {
   "cell_type": "code",
   "execution_count": 241,
   "id": "704aa975",
   "metadata": {},
   "outputs": [],
   "source": [
    "ticker = 'ACN'\n",
    "period1 = int(time.mktime(datetime.datetime(2015, 1, 1).timetuple()))\n",
    "period2 = int(time.mktime(datetime.datetime(2023, 6, 1).timetuple()))\n",
    "interval = '1mo' \n",
    "\n",
    "query_string = f'https://query1.finance.yahoo.com/v7/finance/download/{ticker}?period1={period1}&period2={period2}&interval={interval}&events=history&includeAdjustedClose=true'\n",
    "\n",
    "accenture_stock = pd.read_csv(query_string)\n",
    "\n",
    "accenture_stock = accenture_stock[[\"Date\", \"Adj Close\", \"Volume\"]]\n",
    "accenture_stock = accenture_stock.set_index('Date')\n",
    "accenture_stock[\"press release\"] = np.nan"
   ]
  },
  {
   "cell_type": "code",
   "execution_count": 246,
   "id": "9d282aa0",
   "metadata": {},
   "outputs": [],
   "source": [
    "date = '2018-10-01'\n",
    "accenture_stock[\"press release\"].loc[date] = \"We are very pleased with our outstanding financial results for the fourth quarter and the full fiscal year 2018. For the year, our broad-based revenue growth of 10.5 percent in local currency and record new bookings of $42.8 billion reflect continued excellent demand for our services. We also delivered 14 percent EPS growth on an adjusted basis, generated very strong free cash flow and returned $4.3 billion in cash to our shareholders. We continue to benefit from the significant investments we have made to further strengthen our leadership position in high-growth areas such as digital, cloud and security services, which accounted for approximately 60 percent of total revenues for the year. Our growth strategy and innovation-led approach are clearly resonating with our clients. With our durable business model and disciplined management, we are very well-positioned to continue gaining market share and delivering value for our clients and shareholders.\""
   ]
  },
  {
   "cell_type": "code",
   "execution_count": 251,
   "id": "383bfc62",
   "metadata": {},
   "outputs": [],
   "source": [
    "accenture_stock['Price change 12mo'] = np.nan\n",
    "for i in range(0, len(accenture_stock['Adj Close'])):\n",
    "    if isinstance(accenture_stock['press release'].iloc[i], str):\n",
    "        change = accenture_stock['Adj Close'].iloc[i+7] - accenture_stock['Adj Close'].iloc[i]\n",
    "        accenture_stock['Price change 12mo'].iloc[i] = change\n",
    "        \n",
    "accenture_stock['Price change 8mo'] = np.nan\n",
    "for i in range(0, len(accenture_stock['Adj Close'])):\n",
    "    if isinstance(accenture_stock['press release'].iloc[i], str):\n",
    "        change = accenture_stock['Adj Close'].iloc[i+5] - accenture_stock['Adj Close'].iloc[i]\n",
    "        accenture_stock['Price change 8mo'].iloc[i] = change\n",
    "        \n",
    "accenture_stock['Price change 4mo'] = np.nan\n",
    "for i in range(0, len(accenture_stock['Adj Close'])):\n",
    "    if isinstance(accenture_stock['press release'].iloc[i], str):\n",
    "        change = accenture_stock['Adj Close'].iloc[i+3] - accenture_stock['Adj Close'].iloc[i]\n",
    "        accenture_stock['Price change 4mo'].iloc[i] = change"
   ]
  },
  {
   "cell_type": "code",
   "execution_count": 252,
   "id": "dc8c8213",
   "metadata": {},
   "outputs": [],
   "source": [
    "#accenture_stock.to_csv('Datasets/accenture dataset.csv')"
   ]
  },
  {
   "cell_type": "code",
   "execution_count": null,
   "id": "ba708321",
   "metadata": {},
   "outputs": [],
   "source": []
  },
  {
   "cell_type": "code",
   "execution_count": 254,
   "id": "136a7d21",
   "metadata": {},
   "outputs": [],
   "source": [
    "ticker = 'ABT'\n",
    "period1 = int(time.mktime(datetime.datetime(2015, 1, 1).timetuple()))\n",
    "period2 = int(time.mktime(datetime.datetime(2023, 6, 1).timetuple()))\n",
    "interval = '1mo' \n",
    "\n",
    "query_string = f'https://query1.finance.yahoo.com/v7/finance/download/{ticker}?period1={period1}&period2={period2}&interval={interval}&events=history&includeAdjustedClose=true'\n",
    "\n",
    "abbott_stock = pd.read_csv(query_string)\n",
    "\n",
    "abbott_stock = abbott_stock[[\"Date\", \"Adj Close\", \"Volume\"]]\n",
    "abbott_stock = abbott_stock.set_index('Date')\n",
    "abbott_stock[\"press release\"] = np.nan"
   ]
  },
  {
   "cell_type": "code",
   "execution_count": 260,
   "id": "b97beeee",
   "metadata": {},
   "outputs": [],
   "source": [
    "date = '2018-01-01'\n",
    "abbott_stock[\"press release\"].loc[date] = \"2017 was a great year for us — we performed well, our new product pipeline was highly productive and we took some very important strategic steps forward. e’re entering 2018 with very good momentum.\""
   ]
  },
  {
   "cell_type": "code",
   "execution_count": 261,
   "id": "8c0379b9",
   "metadata": {},
   "outputs": [],
   "source": [
    "abbott_stock['Price change 12mo'] = np.nan\n",
    "for i in range(0, len(abbott_stock['Adj Close'])):\n",
    "    if isinstance(abbott_stock['press release'].iloc[i], str):\n",
    "        change = abbott_stock['Adj Close'].iloc[i+7] - abbott_stock['Adj Close'].iloc[i]\n",
    "        abbott_stock['Price change 12mo'].iloc[i] = change\n",
    "        \n",
    "abbott_stock['Price change 8mo'] = np.nan\n",
    "for i in range(0, len(abbott_stock['Adj Close'])):\n",
    "    if isinstance(abbott_stock['press release'].iloc[i], str):\n",
    "        change = abbott_stock['Adj Close'].iloc[i+5] - abbott_stock['Adj Close'].iloc[i]\n",
    "        abbott_stock['Price change 8mo'].iloc[i] = change\n",
    "        \n",
    "abbott_stock['Price change 4mo'] = np.nan\n",
    "for i in range(0, len(abbott_stock['Adj Close'])):\n",
    "    if isinstance(abbott_stock['press release'].iloc[i], str):\n",
    "        change = abbott_stock['Adj Close'].iloc[i+3] - abbott_stock['Adj Close'].iloc[i]\n",
    "        abbott_stock['Price change 4mo'].iloc[i] = change"
   ]
  },
  {
   "cell_type": "code",
   "execution_count": 262,
   "id": "71b3eb19",
   "metadata": {},
   "outputs": [],
   "source": [
    "#abbott_stock.to_csv('Datasets/abbott dataset.csv')"
   ]
  },
  {
   "cell_type": "code",
   "execution_count": null,
   "id": "681e2beb",
   "metadata": {},
   "outputs": [],
   "source": []
  },
  {
   "cell_type": "code",
   "execution_count": 264,
   "id": "8ef5bb02",
   "metadata": {},
   "outputs": [],
   "source": [
    "ticker = 'DIS'\n",
    "period1 = int(time.mktime(datetime.datetime(2015, 1, 1).timetuple()))\n",
    "period2 = int(time.mktime(datetime.datetime(2023, 6, 1).timetuple()))\n",
    "interval = '1mo' \n",
    "\n",
    "query_string = f'https://query1.finance.yahoo.com/v7/finance/download/{ticker}?period1={period1}&period2={period2}&interval={interval}&events=history&includeAdjustedClose=true'\n",
    "\n",
    "disney_stock = pd.read_csv(query_string)\n",
    "\n",
    "disney_stock = disney_stock[[\"Date\", \"Adj Close\", \"Volume\"]]\n",
    "disney_stock = disney_stock.set_index('Date')\n",
    "disney_stock[\"press release\"] = np.nan"
   ]
  },
  {
   "cell_type": "code",
   "execution_count": 268,
   "id": "6b99df31",
   "metadata": {},
   "outputs": [],
   "source": [
    "date = '2018-10-01'\n",
    "disney_stock[\"press release\"].loc[date] = \"Our solid results in the fourth quarter reflect the ongoing strength of our brands and businesses. We’ve spent the last few years completely transforming The Walt Disney Company to focus the resources and immense creativity across the entire company on delivering an extraordinary direct-to-consumer experience, and we’re excited for the launch of Disney+ on November 12\""
   ]
  },
  {
   "cell_type": "code",
   "execution_count": 269,
   "id": "735082d3",
   "metadata": {},
   "outputs": [],
   "source": [
    "disney_stock['Price change 12mo'] = np.nan\n",
    "for i in range(0, len(disney_stock['Adj Close'])):\n",
    "    if isinstance(disney_stock['press release'].iloc[i], str):\n",
    "        change = disney_stock['Adj Close'].iloc[i+7] - disney_stock['Adj Close'].iloc[i]\n",
    "        disney_stock['Price change 12mo'].iloc[i] = change\n",
    "        \n",
    "disney_stock['Price change 8mo'] = np.nan\n",
    "for i in range(0, len(disney_stock['Adj Close'])):\n",
    "    if isinstance(disney_stock['press release'].iloc[i], str):\n",
    "        change = disney_stock['Adj Close'].iloc[i+5] - disney_stock['Adj Close'].iloc[i]\n",
    "        disney_stock['Price change 8mo'].iloc[i] = change\n",
    "        \n",
    "disney_stock['Price change 4mo'] = np.nan\n",
    "for i in range(0, len(disney_stock['Adj Close'])):\n",
    "    if isinstance(disney_stock['press release'].iloc[i], str):\n",
    "        change = disney_stock['Adj Close'].iloc[i+3] - disney_stock['Adj Close'].iloc[i]\n",
    "        disney_stock['Price change 4mo'].iloc[i] = change"
   ]
  },
  {
   "cell_type": "code",
   "execution_count": 270,
   "id": "7f0ca917",
   "metadata": {},
   "outputs": [],
   "source": [
    "#disney_stock.to_csv('Datasets/disney dataset.csv')"
   ]
  },
  {
   "cell_type": "code",
   "execution_count": null,
   "id": "19ee0b6d",
   "metadata": {},
   "outputs": [],
   "source": []
  },
  {
   "cell_type": "code",
   "execution_count": 273,
   "id": "7945b29b",
   "metadata": {},
   "outputs": [],
   "source": [
    "ticker = 'VZ'\n",
    "period1 = int(time.mktime(datetime.datetime(2015, 1, 1).timetuple()))\n",
    "period2 = int(time.mktime(datetime.datetime(2023, 6, 1).timetuple()))\n",
    "interval = '1mo' \n",
    "\n",
    "query_string = f'https://query1.finance.yahoo.com/v7/finance/download/{ticker}?period1={period1}&period2={period2}&interval={interval}&events=history&includeAdjustedClose=true'\n",
    "\n",
    "verizon_stock = pd.read_csv(query_string)\n",
    "\n",
    "verizon_stock = verizon_stock[[\"Date\", \"Adj Close\", \"Volume\"]]\n",
    "verizon_stock = verizon_stock.set_index('Date')\n",
    "verizon_stock[\"press release\"] = np.nan"
   ]
  },
  {
   "cell_type": "code",
   "execution_count": 278,
   "id": "de46f86d",
   "metadata": {},
   "outputs": [],
   "source": [
    "date = '2018-01-01'\n",
    "verizon_stock[\"press release\"].loc[date] = \"Verizon finished 2017 with great momentum, led by some of the best customer growth and loyalty results Verizon Wireless has delivered in recent years. In 2018 we look to drive long-term shareholder value by deploying next-generation network services, leveraging global platforms such as Oath, and using our strategic Humanability approach to turn innovative ideas into realities.\""
   ]
  },
  {
   "cell_type": "code",
   "execution_count": 281,
   "id": "e8999792",
   "metadata": {},
   "outputs": [],
   "source": [
    "verizon_stock['Price change 12mo'] = np.nan\n",
    "for i in range(0, len(verizon_stock['Adj Close'])):\n",
    "    if isinstance(verizon_stock['press release'].iloc[i], str):\n",
    "        change = verizon_stock['Adj Close'].iloc[i+7] - verizon_stock['Adj Close'].iloc[i]\n",
    "        verizon_stock['Price change 12mo'].iloc[i] = change\n",
    "        \n",
    "verizon_stock['Price change 8mo'] = np.nan\n",
    "for i in range(0, len(verizon_stock['Adj Close'])):\n",
    "    if isinstance(verizon_stock['press release'].iloc[i], str):\n",
    "        change = verizon_stock['Adj Close'].iloc[i+5] - verizon_stock['Adj Close'].iloc[i]\n",
    "        verizon_stock['Price change 8mo'].iloc[i] = change\n",
    "        \n",
    "verizon_stock['Price change 4mo'] = np.nan\n",
    "for i in range(0, len(verizon_stock['Adj Close'])):\n",
    "    if isinstance(verizon_stock['press release'].iloc[i], str):\n",
    "        change = verizon_stock['Adj Close'].iloc[i+3] - verizon_stock['Adj Close'].iloc[i]\n",
    "        verizon_stock['Price change 4mo'].iloc[i] = change"
   ]
  },
  {
   "cell_type": "code",
   "execution_count": 282,
   "id": "24300d09",
   "metadata": {},
   "outputs": [],
   "source": [
    "#verizon_stock.to_csv('Datasets/verizon dataset.csv')"
   ]
  },
  {
   "cell_type": "code",
   "execution_count": null,
   "id": "81e86c75",
   "metadata": {},
   "outputs": [],
   "source": []
  },
  {
   "cell_type": "code",
   "execution_count": 283,
   "id": "dcae13b7",
   "metadata": {},
   "outputs": [],
   "source": [
    "ticker = 'PM'\n",
    "period1 = int(time.mktime(datetime.datetime(2015, 1, 1).timetuple()))\n",
    "period2 = int(time.mktime(datetime.datetime(2023, 6, 1).timetuple()))\n",
    "interval = '1mo' \n",
    "\n",
    "query_string = f'https://query1.finance.yahoo.com/v7/finance/download/{ticker}?period1={period1}&period2={period2}&interval={interval}&events=history&includeAdjustedClose=true'\n",
    "\n",
    "philips_stock = pd.read_csv(query_string)\n",
    "\n",
    "philips_stock = philips_stock[[\"Date\", \"Adj Close\", \"Volume\"]]\n",
    "philips_stock = philips_stock.set_index('Date')\n",
    "philips_stock[\"press release\"] = np.nan"
   ]
  },
  {
   "cell_type": "code",
   "execution_count": 288,
   "id": "00b7ce5a",
   "metadata": {},
   "outputs": [],
   "source": [
    "date = '2018-01-01'\n",
    "philips_stock[\"press release\"].loc[date] = \"A strong fourth-quarter performance helped drive robust full-year results, exemplified by currency-neutral, double-digit adjusted earnings per share growth, despite previously disclosed challenges in Russia and Saudi Arabia. The excellent performance of our flagship smoke-free product IQOS -- not only in Asia, but also in the vast majority of our launch geographies -- underscored its great promise and the commitment of our employees to lead the transformation of our industry towards a smoke-free future. Continued investment behind IQOS in 2018 is expected to further drive its positive momentum. For the first time since 2011, we have entered the year with annual guidance that reflects a positive currency impact. Our combustible product portfolio provides us with a strong foundation. The confirmed potential of our smoke-free alternatives reinforces our strong determination to deploy all necessary resources to accelerate their growth, which will drive our business success and ability to generously reward our shareholders over the long term.\""
   ]
  },
  {
   "cell_type": "code",
   "execution_count": 289,
   "id": "16fbc436",
   "metadata": {},
   "outputs": [],
   "source": [
    "philips_stock['Price change 12mo'] = np.nan\n",
    "for i in range(0, len(philips_stock['Adj Close'])):\n",
    "    if isinstance(philips_stock['press release'].iloc[i], str):\n",
    "        change = philips_stock['Adj Close'].iloc[i+7] - philips_stock['Adj Close'].iloc[i]\n",
    "        philips_stock['Price change 12mo'].iloc[i] = change\n",
    "        \n",
    "philips_stock['Price change 8mo'] = np.nan\n",
    "for i in range(0, len(philips_stock['Adj Close'])):\n",
    "    if isinstance(philips_stock['press release'].iloc[i], str):\n",
    "        change = philips_stock['Adj Close'].iloc[i+5] - philips_stock['Adj Close'].iloc[i]\n",
    "        philips_stock['Price change 8mo'].iloc[i] = change\n",
    "        \n",
    "philips_stock['Price change 4mo'] = np.nan\n",
    "for i in range(0, len(philips_stock['Adj Close'])):\n",
    "    if isinstance(philips_stock['press release'].iloc[i], str):\n",
    "        change = philips_stock['Adj Close'].iloc[i+3] - philips_stock['Adj Close'].iloc[i]\n",
    "        philips_stock['Price change 4mo'].iloc[i] = change"
   ]
  },
  {
   "cell_type": "code",
   "execution_count": 290,
   "id": "f86365f3",
   "metadata": {},
   "outputs": [],
   "source": [
    "#philips_stock.to_csv('Datasets/philips dataset.csv')"
   ]
  },
  {
   "cell_type": "code",
   "execution_count": null,
   "id": "e8a4198a",
   "metadata": {},
   "outputs": [],
   "source": []
  },
  {
   "cell_type": "code",
   "execution_count": 291,
   "id": "02f63331",
   "metadata": {},
   "outputs": [],
   "source": [
    "ticker = 'INTC'\n",
    "period1 = int(time.mktime(datetime.datetime(2015, 1, 1).timetuple()))\n",
    "period2 = int(time.mktime(datetime.datetime(2023, 6, 1).timetuple()))\n",
    "interval = '1mo' \n",
    "\n",
    "query_string = f'https://query1.finance.yahoo.com/v7/finance/download/{ticker}?period1={period1}&period2={period2}&interval={interval}&events=history&includeAdjustedClose=true'\n",
    "\n",
    "intel_stock = pd.read_csv(query_string)\n",
    "\n",
    "intel_stock = intel_stock[[\"Date\", \"Adj Close\", \"Volume\"]]\n",
    "intel_stock = intel_stock.set_index('Date')\n",
    "intel_stock[\"press release\"] = np.nan"
   ]
  },
  {
   "cell_type": "code",
   "execution_count": 298,
   "id": "9904c8eb",
   "metadata": {},
   "outputs": [],
   "source": [
    "date = '2019-01-01'\n",
    "intel_stock[\"press release\"].loc[date] = \"2018 was a truly remarkable year for Intel with record revenue in every business segment and record profits as we transform the company to pursue our biggest market opportunity ever. In the fourth quarter, we grew revenue, expanded earnings and previewed new 10nm-based products that position Intel to compete and win going forward. Looking ahead, we are forecasting another record year and raising the dividend based on our view that the explosive growth of data will drive continued demand for Intel products.\""
   ]
  },
  {
   "cell_type": "code",
   "execution_count": 299,
   "id": "c780b9be",
   "metadata": {},
   "outputs": [],
   "source": [
    "intel_stock['Price change 12mo'] = np.nan\n",
    "for i in range(0, len(intel_stock['Adj Close'])):\n",
    "    if isinstance(intel_stock['press release'].iloc[i], str):\n",
    "        change = intel_stock['Adj Close'].iloc[i+7] - intel_stock['Adj Close'].iloc[i]\n",
    "        intel_stock['Price change 12mo'].iloc[i] = change\n",
    "        \n",
    "intel_stock['Price change 8mo'] = np.nan\n",
    "for i in range(0, len(intel_stock['Adj Close'])):\n",
    "    if isinstance(intel_stock['press release'].iloc[i], str):\n",
    "        change = intel_stock['Adj Close'].iloc[i+5] - intel_stock['Adj Close'].iloc[i]\n",
    "        intel_stock['Price change 8mo'].iloc[i] = change\n",
    "        \n",
    "intel_stock['Price change 4mo'] = np.nan\n",
    "for i in range(0, len(intel_stock['Adj Close'])):\n",
    "    if isinstance(intel_stock['press release'].iloc[i], str):\n",
    "        change = intel_stock['Adj Close'].iloc[i+3] - intel_stock['Adj Close'].iloc[i]\n",
    "        intel_stock['Price change 4mo'].iloc[i] = change"
   ]
  },
  {
   "cell_type": "code",
   "execution_count": 300,
   "id": "507e4d08",
   "metadata": {},
   "outputs": [],
   "source": [
    "intel_stock.to_csv('Datasets/intel dataset.csv')"
   ]
  },
  {
   "cell_type": "code",
   "execution_count": null,
   "id": "74d2d956",
   "metadata": {},
   "outputs": [],
   "source": []
  },
  {
   "cell_type": "code",
   "execution_count": 302,
   "id": "481b042e",
   "metadata": {},
   "outputs": [],
   "source": [
    "ticker = 'NKE'\n",
    "period1 = int(time.mktime(datetime.datetime(2015, 1, 1).timetuple()))\n",
    "period2 = int(time.mktime(datetime.datetime(2023, 6, 1).timetuple()))\n",
    "interval = '1mo' \n",
    "\n",
    "query_string = f'https://query1.finance.yahoo.com/v7/finance/download/{ticker}?period1={period1}&period2={period2}&interval={interval}&events=history&includeAdjustedClose=true'\n",
    "\n",
    "nike_stock = pd.read_csv(query_string)\n",
    "\n",
    "nike_stock = nike_stock[[\"Date\", \"Adj Close\", \"Volume\"]]\n",
    "nike_stock = nike_stock.set_index('Date')\n",
    "nike_stock[\"press release\"] = np.nan"
   ]
  },
  {
   "cell_type": "code",
   "execution_count": 307,
   "id": "20e0d317",
   "metadata": {},
   "outputs": [],
   "source": [
    "date = '2018-06-01'\n",
    "nike_stock[\"press release\"].loc[date] = \"Our new innovation is winning with consumers, driving significant momentum in our international geographies and a return to growth in North America. Fueled by a complete digital transformation of our company end-to-end, this year set the foundation for Nike’s next wave of long-term, sustainable growth and profitability.\""
   ]
  },
  {
   "cell_type": "code",
   "execution_count": 308,
   "id": "6a12c7d9",
   "metadata": {},
   "outputs": [],
   "source": [
    "nike_stock['Price change 12mo'] = np.nan\n",
    "for i in range(0, len(nike_stock['Adj Close'])):\n",
    "    if isinstance(nike_stock['press release'].iloc[i], str):\n",
    "        change = nike_stock['Adj Close'].iloc[i+7] - nike_stock['Adj Close'].iloc[i]\n",
    "        nike_stock['Price change 12mo'].iloc[i] = change\n",
    "        \n",
    "nike_stock['Price change 8mo'] = np.nan\n",
    "for i in range(0, len(nike_stock['Adj Close'])):\n",
    "    if isinstance(nike_stock['press release'].iloc[i], str):\n",
    "        change = nike_stock['Adj Close'].iloc[i+5] - nike_stock['Adj Close'].iloc[i]\n",
    "        nike_stock['Price change 8mo'].iloc[i] = change\n",
    "        \n",
    "nike_stock['Price change 4mo'] = np.nan\n",
    "for i in range(0, len(nike_stock['Adj Close'])):\n",
    "    if isinstance(nike_stock['press release'].iloc[i], str):\n",
    "        change = nike_stock['Adj Close'].iloc[i+3] - nike_stock['Adj Close'].iloc[i]\n",
    "        nike_stock['Price change 4mo'].iloc[i] = change"
   ]
  },
  {
   "cell_type": "code",
   "execution_count": 309,
   "id": "63953e91",
   "metadata": {},
   "outputs": [],
   "source": [
    "#nike_stock.to_csv('Datasets/nike dataset.csv')"
   ]
  },
  {
   "cell_type": "code",
   "execution_count": null,
   "id": "823a7bd1",
   "metadata": {},
   "outputs": [],
   "source": [
    "#vanaf hier"
   ]
  },
  {
   "cell_type": "code",
   "execution_count": 3,
   "id": "43200f8c",
   "metadata": {},
   "outputs": [],
   "source": [
    "ticker = 'HON'\n",
    "period1 = int(time.mktime(datetime.datetime(2015, 1, 1).timetuple()))\n",
    "period2 = int(time.mktime(datetime.datetime(2023, 6, 1).timetuple()))\n",
    "interval = '1mo' \n",
    "\n",
    "query_string = f'https://query1.finance.yahoo.com/v7/finance/download/{ticker}?period1={period1}&period2={period2}&interval={interval}&events=history&includeAdjustedClose=true'\n",
    "\n",
    "honeywell_stock = pd.read_csv(query_string)\n",
    "\n",
    "honeywell_stock = honeywell_stock[[\"Date\", \"Adj Close\", \"Volume\"]]\n",
    "honeywell_stock = honeywell_stock.set_index('Date')\n",
    "honeywell_stock[\"press release\"] = np.nan"
   ]
  },
  {
   "cell_type": "code",
   "execution_count": 8,
   "id": "62c1e720",
   "metadata": {},
   "outputs": [],
   "source": [
    "date = '2018-01-01'\n",
    "honeywell_stock[\"press release\"].loc[date] = \"Honeywell delivered a strong fourth quarter, capping an exceptional year for the company. Fourth-quarter sales grew six percent organically, leading to full-year organic sales growth of four percent, driven by robust growth in Aerospace aftermarket, UOP, Advanced Materials, and Intelligrated. We leveraged HOS Gold to drive outstanding growth and expand segment margins by 70 basis points for the year. Earnings per share3 were $1.85 in the fourth quarter and $7.11 for the full year, up 10 percent year over year, excluding the fourth-quarter charge related to U.S. tax reform and other items, as a result of our strong focus on growth and productivity. Our businesses achieved exceptional free cash flow, with 123 percent conversion in the fourth quarter and 90 percent conversion for the full year, exceeding the high end of our guidance for 2017. While delivering outstanding 2017 results, we also made significant investments in our future, including funding more than $350 million in restructuring projects. We generated significant value for our shareowners in 2017 through a 12 percent increase in our dividend; $2.9 billion in share repurchases, including $1.6 billion in the fourth quarter; and the closing of three acquisitions. Our financial performance and aggressive capital deployment led to a total shareowner return of 35 percent, well ahead of the S&P’s total shareowner return of 22 percent and the median return of our multi-industry peers of 24 percent. Honeywell’s transformation to a software-industrial leader is well underway, and in 2018, we expect to complete the spin-offs of our Homes and Global Distribution business, and our Transportation Systems business, which will position Honeywell for future growth and margin expansion. After the spins, these businesses will be better positioned to maximize shareowner value through focused strategic decision making and capital allocation tailored for their end markets. I am confident in Honeywell’s future, and our ability to continue to deliver for our shareowners and our employees. Our strong performance in 2017, together with the enactment of new U.S. tax legislation, has enabled us to increase our 401(k) match in the U.S. This is a sustained, annual benefit that will provide a more secure retirement for our employees. We believe that enhancing this benefit is extremely valuable and important to our employees over the long term.\""
   ]
  },
  {
   "cell_type": "code",
   "execution_count": 9,
   "id": "498a1d6b",
   "metadata": {},
   "outputs": [],
   "source": [
    "honeywell_stock['Price change 12mo'] = np.nan\n",
    "for i in range(0, len(honeywell_stock['Adj Close'])):\n",
    "    if isinstance(honeywell_stock['press release'].iloc[i], str):\n",
    "        change = honeywell_stock['Adj Close'].iloc[i+11] - honeywell_stock['Adj Close'].iloc[i]\n",
    "        honeywell_stock['Price change 12mo'].iloc[i] = change\n",
    "        \n",
    "honeywell_stock['Price change 8mo'] = np.nan\n",
    "for i in range(0, len(honeywell_stock['Adj Close'])):\n",
    "    if isinstance(honeywell_stock['press release'].iloc[i], str):\n",
    "        change = honeywell_stock['Adj Close'].iloc[i+7] - honeywell_stock['Adj Close'].iloc[i]\n",
    "        honeywell_stock['Price change 8mo'].iloc[i] = change\n",
    "        \n",
    "honeywell_stock['Price change 4mo'] = np.nan\n",
    "for i in range(0, len(honeywell_stock['Adj Close'])):\n",
    "    if isinstance(honeywell_stock['press release'].iloc[i], str):\n",
    "        change = honeywell_stock['Adj Close'].iloc[i+3] - honeywell_stock['Adj Close'].iloc[i]\n",
    "        honeywell_stock['Price change 4mo'].iloc[i] = change"
   ]
  },
  {
   "cell_type": "code",
   "execution_count": 10,
   "id": "6b05518e",
   "metadata": {},
   "outputs": [],
   "source": [
    "#honeywell_stock.to_csv('Datasets/honeywell dataset.csv')"
   ]
  },
  {
   "cell_type": "code",
   "execution_count": null,
   "id": "67953614",
   "metadata": {},
   "outputs": [],
   "source": []
  },
  {
   "cell_type": "code",
   "execution_count": 11,
   "id": "b5fa8ad8",
   "metadata": {},
   "outputs": [],
   "source": [
    "ticker = 'UPS'\n",
    "period1 = int(time.mktime(datetime.datetime(2015, 1, 1).timetuple()))\n",
    "period2 = int(time.mktime(datetime.datetime(2023, 6, 1).timetuple()))\n",
    "interval = '1mo' \n",
    "\n",
    "query_string = f'https://query1.finance.yahoo.com/v7/finance/download/{ticker}?period1={period1}&period2={period2}&interval={interval}&events=history&includeAdjustedClose=true'\n",
    "\n",
    "ups_stock = pd.read_csv(query_string)\n",
    "\n",
    "ups_stock = ups_stock[[\"Date\", \"Adj Close\", \"Volume\"]]\n",
    "ups_stock = ups_stock.set_index('Date')\n",
    "ups_stock[\"press release\"] = np.nan"
   ]
  },
  {
   "cell_type": "code",
   "execution_count": 16,
   "id": "062b853f",
   "metadata": {},
   "outputs": [],
   "source": [
    "date = '2018-01-01'\n",
    "ups_stock[\"press release\"].loc[date] = \"We achieved our 2017 adjusted earnings-per-share target through exceptionally strong revenue and yield growth, coupled with benefits from our network investments and portfolio initiatives. We made significant progress on key capacity investments in 2017. Our momentum, transformative actions and the economic catalyst from the Tax Cuts and Jobs Act (TCJA), position UPS for growth in 2018 and beyond. We expect to unlock significant resources, which will be available for accelerated investments in our network and create additional opportunities for our people.\""
   ]
  },
  {
   "cell_type": "code",
   "execution_count": 17,
   "id": "0b9beded",
   "metadata": {},
   "outputs": [],
   "source": [
    "ups_stock['Price change 12mo'] = np.nan\n",
    "for i in range(0, len(ups_stock['Adj Close'])):\n",
    "    if isinstance(ups_stock['press release'].iloc[i], str):\n",
    "        change = ups_stock['Adj Close'].iloc[i+11] - ups_stock['Adj Close'].iloc[i]\n",
    "        ups_stock['Price change 12mo'].iloc[i] = change\n",
    "        \n",
    "ups_stock['Price change 8mo'] = np.nan\n",
    "for i in range(0, len(ups_stock['Adj Close'])):\n",
    "    if isinstance(ups_stock['press release'].iloc[i], str):\n",
    "        change = ups_stock['Adj Close'].iloc[i+7] - ups_stock['Adj Close'].iloc[i]\n",
    "        ups_stock['Price change 8mo'].iloc[i] = change\n",
    "        \n",
    "ups_stock['Price change 4mo'] = np.nan\n",
    "for i in range(0, len(ups_stock['Adj Close'])):\n",
    "    if isinstance(ups_stock['press release'].iloc[i], str):\n",
    "        change = ups_stock['Adj Close'].iloc[i+3] - ups_stock['Adj Close'].iloc[i]\n",
    "        ups_stock['Price change 4mo'].iloc[i] = change"
   ]
  },
  {
   "cell_type": "code",
   "execution_count": 18,
   "id": "ff6e3210",
   "metadata": {},
   "outputs": [],
   "source": [
    "ups_stock.to_csv('Datasets/ups dataset.csv')"
   ]
  },
  {
   "cell_type": "code",
   "execution_count": null,
   "id": "089b8c01",
   "metadata": {},
   "outputs": [],
   "source": []
  },
  {
   "cell_type": "code",
   "execution_count": 19,
   "id": "095108fe",
   "metadata": {},
   "outputs": [],
   "source": [
    "ticker = 'BA'\n",
    "period1 = int(time.mktime(datetime.datetime(2015, 1, 1).timetuple()))\n",
    "period2 = int(time.mktime(datetime.datetime(2023, 6, 1).timetuple()))\n",
    "interval = '1mo' \n",
    "\n",
    "query_string = f'https://query1.finance.yahoo.com/v7/finance/download/{ticker}?period1={period1}&period2={period2}&interval={interval}&events=history&includeAdjustedClose=true'\n",
    "\n",
    "boeing_stock = pd.read_csv(query_string)\n",
    "\n",
    "boeing_stock = boeing_stock[[\"Date\", \"Adj Close\", \"Volume\"]]\n",
    "boeing_stock = boeing_stock.set_index('Date')\n",
    "boeing_stock[\"press release\"] = np.nan"
   ]
  },
  {
   "cell_type": "code",
   "execution_count": 24,
   "id": "d7979219",
   "metadata": {},
   "outputs": [],
   "source": [
    "date = '2018-01-01'\n",
    "boeing_stock[\"press release\"].loc[date] = \"Across Boeing our teams delivered a record year of financial and operational performance as they focused on disciplined execution of production and development programs, growing services, and delivering value to customers. That performance enables increased investments in our people and our business, and greater cash return to shareholders. In 2017 we delivered the first 737 MAX airplanes, launched the 737 MAX 10 and completed the 787-10 first flight, all while delivering more commercial airplanes than ever before. We flew the first KC-46 Tanker to be delivered to the U.S. Air Force, were awarded an initial contract for the Ground Based Strategic Deterrent program, and a contract to provide 36 F-15 fighters to Qatar. We launched Boeing Global Services during the year, to deliver greater lifecycle value, and achieved growth that outpaced the market. We actively positioned for future markets and growth by developing new products and services, investing to build vertical capabilities, launching the HorizonX innovation organization and bringing in new capabilities, including the acquisition of Aurora Flight Sciences. Looking forward, our team remains focused on winning through innovation, driving growth and productivity and extending our position as the world's leading aerospace company – delivering the best value to our customers, our employees and our shareholders.\""
   ]
  },
  {
   "cell_type": "code",
   "execution_count": 25,
   "id": "d8eb6dcb",
   "metadata": {},
   "outputs": [],
   "source": [
    "boeing_stock['Price change 12mo'] = np.nan\n",
    "for i in range(0, len(boeing_stock['Adj Close'])):\n",
    "    if isinstance(boeing_stock['press release'].iloc[i], str):\n",
    "        change = boeing_stock['Adj Close'].iloc[i+11] - boeing_stock['Adj Close'].iloc[i]\n",
    "        boeing_stock['Price change 12mo'].iloc[i] = change\n",
    "        \n",
    "boeing_stock['Price change 8mo'] = np.nan\n",
    "for i in range(0, len(boeing_stock['Adj Close'])):\n",
    "    if isinstance(boeing_stock['press release'].iloc[i], str):\n",
    "        change = boeing_stock['Adj Close'].iloc[i+7] - boeing_stock['Adj Close'].iloc[i]\n",
    "        boeing_stock['Price change 8mo'].iloc[i] = change\n",
    "        \n",
    "boeing_stock['Price change 4mo'] = np.nan\n",
    "for i in range(0, len(boeing_stock['Adj Close'])):\n",
    "    if isinstance(boeing_stock['press release'].iloc[i], str):\n",
    "        change = boeing_stock['Adj Close'].iloc[i+3] - boeing_stock['Adj Close'].iloc[i]\n",
    "        boeing_stock['Price change 4mo'].iloc[i] = change"
   ]
  },
  {
   "cell_type": "code",
   "execution_count": 26,
   "id": "4ab998d2",
   "metadata": {},
   "outputs": [],
   "source": [
    "#boeing_stock.to_csv('Datasets/boeing dataset.csv')"
   ]
  },
  {
   "cell_type": "code",
   "execution_count": null,
   "id": "bbb3902e",
   "metadata": {},
   "outputs": [],
   "source": []
  },
  {
   "cell_type": "code",
   "execution_count": 27,
   "id": "9ef2902d",
   "metadata": {},
   "outputs": [],
   "source": [
    "ticker = 'CAT'\n",
    "period1 = int(time.mktime(datetime.datetime(2015, 1, 1).timetuple()))\n",
    "period2 = int(time.mktime(datetime.datetime(2023, 6, 1).timetuple()))\n",
    "interval = '1mo' \n",
    "\n",
    "query_string = f'https://query1.finance.yahoo.com/v7/finance/download/{ticker}?period1={period1}&period2={period2}&interval={interval}&events=history&includeAdjustedClose=true'\n",
    "\n",
    "caterpillar_stock = pd.read_csv(query_string)\n",
    "\n",
    "caterpillar_stock = caterpillar_stock[[\"Date\", \"Adj Close\", \"Volume\"]]\n",
    "caterpillar_stock = caterpillar_stock.set_index('Date')\n",
    "caterpillar_stock[\"press release\"] = np.nan"
   ]
  },
  {
   "cell_type": "code",
   "execution_count": 35,
   "id": "440d21b0",
   "metadata": {},
   "outputs": [],
   "source": [
    "date = '2018-01-01'\n",
    "caterpillar_stock[\"press release\"].loc[date] = \"After four challenging years, many key markets improved in 2017, and our global team delivered strong results. We remained focused on operational excellence and made early investments in profitable growth initiatives as we began to implement our new strategy. We are in the early stages of implementing our strategy for profitable growth. In 2018, we expect to make additional investments in the expanded offerings and services important for Caterpillar’s long-term success. We will use our Operating & Execution Model to bias resources to areas that represent the greatest opportunity for return on our investments. Our focus on operational excellence will not waver as we work to develop a more competitive and flexible cost structure, including implementing lean manufacturing principles. We are positioned to capitalize on continued sales momentum or quickly adjust should conditions change.\""
   ]
  },
  {
   "cell_type": "code",
   "execution_count": 36,
   "id": "9204858e",
   "metadata": {},
   "outputs": [],
   "source": [
    "caterpillar_stock['Price change 12mo'] = np.nan\n",
    "for i in range(0, len(caterpillar_stock['Adj Close'])):\n",
    "    if isinstance(caterpillar_stock['press release'].iloc[i], str):\n",
    "        change = caterpillar_stock['Adj Close'].iloc[i+11] - caterpillar_stock['Adj Close'].iloc[i]\n",
    "        caterpillar_stock['Price change 12mo'].iloc[i] = change\n",
    "        \n",
    "caterpillar_stock['Price change 8mo'] = np.nan\n",
    "for i in range(0, len(caterpillar_stock['Adj Close'])):\n",
    "    if isinstance(caterpillar_stock['press release'].iloc[i], str):\n",
    "        change = caterpillar_stock['Adj Close'].iloc[i+7] - caterpillar_stock['Adj Close'].iloc[i]\n",
    "        caterpillar_stock['Price change 8mo'].iloc[i] = change\n",
    "        \n",
    "caterpillar_stock['Price change 4mo'] = np.nan\n",
    "for i in range(0, len(caterpillar_stock['Adj Close'])):\n",
    "    if isinstance(caterpillar_stock['press release'].iloc[i], str):\n",
    "        change = caterpillar_stock['Adj Close'].iloc[i+3] - caterpillar_stock['Adj Close'].iloc[i]\n",
    "        caterpillar_stock['Price change 4mo'].iloc[i] = change"
   ]
  },
  {
   "cell_type": "code",
   "execution_count": 37,
   "id": "30b921af",
   "metadata": {},
   "outputs": [],
   "source": [
    "#caterpillar_stock.to_csv('Datasets/caterpillar dataset.csv')"
   ]
  },
  {
   "cell_type": "code",
   "execution_count": null,
   "id": "61009357",
   "metadata": {},
   "outputs": [],
   "source": []
  },
  {
   "cell_type": "code",
   "execution_count": 39,
   "id": "8d1a0d91",
   "metadata": {},
   "outputs": [],
   "source": [
    "ticker = 'IBM'\n",
    "period1 = int(time.mktime(datetime.datetime(2015, 1, 1).timetuple()))\n",
    "period2 = int(time.mktime(datetime.datetime(2023, 6, 1).timetuple()))\n",
    "interval = '1mo' \n",
    "\n",
    "query_string = f'https://query1.finance.yahoo.com/v7/finance/download/{ticker}?period1={period1}&period2={period2}&interval={interval}&events=history&includeAdjustedClose=true'\n",
    "\n",
    "ibm_stock = pd.read_csv(query_string)\n",
    "\n",
    "ibm_stock = ibm_stock[[\"Date\", \"Adj Close\", \"Volume\"]]\n",
    "ibm_stock = ibm_stock.set_index('Date')\n",
    "ibm_stock[\"press release\"] = np.nan"
   ]
  },
  {
   "cell_type": "code",
   "execution_count": 45,
   "id": "7bad308a",
   "metadata": {},
   "outputs": [],
   "source": [
    "date = '2018-01-01'\n",
    "ibm_stock[\"press release\"].loc[date] = \"Our strategic imperatives revenue again grew at a double-digit rate and now represents 46 percent of our total revenue, and we are pleased with our overall revenue growth in the quarter. During 2017, we strengthened our position as the leading enterprise cloud provider and established IBM as the blockchain leader for business.  Looking ahead, we are uniquely positioned to help clients use data and AI to build smarter businesses. Over the past several years we have invested aggressively in technology and our people to reposition IBM. 2018 will be all about reinforcing IBM’s leadership position in key high-value segments of the IT industry, including cloud, AI, security and blockchain.\""
   ]
  },
  {
   "cell_type": "code",
   "execution_count": 46,
   "id": "bee1a59c",
   "metadata": {},
   "outputs": [],
   "source": [
    "ibm_stock['Price change 12mo'] = np.nan\n",
    "for i in range(0, len(ibm_stock['Adj Close'])):\n",
    "    if isinstance(ibm_stock['press release'].iloc[i], str):\n",
    "        change = ibm_stock['Adj Close'].iloc[i+11] - ibm_stock['Adj Close'].iloc[i]\n",
    "        ibm_stock['Price change 12mo'].iloc[i] = change\n",
    "        \n",
    "ibm_stock['Price change 8mo'] = np.nan\n",
    "for i in range(0, len(ibm_stock['Adj Close'])):\n",
    "    if isinstance(ibm_stock['press release'].iloc[i], str):\n",
    "        change = ibm_stock['Adj Close'].iloc[i+7] - ibm_stock['Adj Close'].iloc[i]\n",
    "        ibm_stock['Price change 8mo'].iloc[i] = change\n",
    "        \n",
    "ibm_stock['Price change 4mo'] = np.nan\n",
    "for i in range(0, len(ibm_stock['Adj Close'])):\n",
    "    if isinstance(ibm_stock['press release'].iloc[i], str):\n",
    "        change = ibm_stock['Adj Close'].iloc[i+3] - ibm_stock['Adj Close'].iloc[i]\n",
    "        ibm_stock['Price change 4mo'].iloc[i] = change"
   ]
  },
  {
   "cell_type": "code",
   "execution_count": 47,
   "id": "03fcb4f8",
   "metadata": {},
   "outputs": [],
   "source": [
    "#ibm_stock.to_csv('Datasets/ibm dataset.csv')"
   ]
  },
  {
   "cell_type": "code",
   "execution_count": null,
   "id": "5a30debe",
   "metadata": {},
   "outputs": [],
   "source": []
  },
  {
   "cell_type": "code",
   "execution_count": 48,
   "id": "738e1b0c",
   "metadata": {},
   "outputs": [],
   "source": [
    "ticker = 'UNP'\n",
    "period1 = int(time.mktime(datetime.datetime(2015, 1, 1).timetuple()))\n",
    "period2 = int(time.mktime(datetime.datetime(2023, 6, 1).timetuple()))\n",
    "interval = '1mo' \n",
    "\n",
    "query_string = f'https://query1.finance.yahoo.com/v7/finance/download/{ticker}?period1={period1}&period2={period2}&interval={interval}&events=history&includeAdjustedClose=true'\n",
    "\n",
    "union_stock = pd.read_csv(query_string)\n",
    "\n",
    "union_stock = union_stock[[\"Date\", \"Adj Close\", \"Volume\"]]\n",
    "union_stock = union_stock.set_index('Date')\n",
    "union_stock[\"press release\"] = np.nan"
   ]
  },
  {
   "cell_type": "code",
   "execution_count": 53,
   "id": "8effd8f9",
   "metadata": {},
   "outputs": [],
   "source": [
    "date = '2018-01-01'\n",
    "union_stock[\"press release\"].loc[date] = \"“I am pleased with the results the men and women of Union Pacific achieved by focusing on our six-track value strategy.  While we have room for improvement in many areas, that doesn’t include the dedication and hard work of our employees as they Build America. We are optimistic the economy will favor a number of our market segments leading to another year of positive volume growth. Increased unit volume, combined with inflation plus core pricing and G55-0 productivity initiatives, should result in another year of revenue growth and improved margins. We will continue to execute our value-track strategy to benefit our employees, partner with the communities we serve, provide our customers an excellent experience, and generate strong returns for our shareholders.\""
   ]
  },
  {
   "cell_type": "code",
   "execution_count": 54,
   "id": "f3d8e52a",
   "metadata": {},
   "outputs": [],
   "source": [
    "union_stock['Price change 12mo'] = np.nan\n",
    "for i in range(0, len(union_stock['Adj Close'])):\n",
    "    if isinstance(union_stock['press release'].iloc[i], str):\n",
    "        change = union_stock['Adj Close'].iloc[i+11] - union_stock['Adj Close'].iloc[i]\n",
    "        union_stock['Price change 12mo'].iloc[i] = change\n",
    "        \n",
    "union_stock['Price change 8mo'] = np.nan\n",
    "for i in range(0, len(union_stock['Adj Close'])):\n",
    "    if isinstance(union_stock['press release'].iloc[i], str):\n",
    "        change = union_stock['Adj Close'].iloc[i+7] - union_stock['Adj Close'].iloc[i]\n",
    "        union_stock['Price change 8mo'].iloc[i] = change\n",
    "        \n",
    "union_stock['Price change 4mo'] = np.nan\n",
    "for i in range(0, len(union_stock['Adj Close'])):\n",
    "    if isinstance(union_stock['press release'].iloc[i], str):\n",
    "        change = union_stock['Adj Close'].iloc[i+3] - union_stock['Adj Close'].iloc[i]\n",
    "        union_stock['Price change 4mo'].iloc[i] = change"
   ]
  },
  {
   "cell_type": "code",
   "execution_count": 55,
   "id": "d9691c69",
   "metadata": {},
   "outputs": [],
   "source": [
    "union_stock.to_csv('Datasets/union dataset.csv')"
   ]
  },
  {
   "cell_type": "code",
   "execution_count": 56,
   "id": "89f493be",
   "metadata": {},
   "outputs": [],
   "source": [
    "#union_stock.to_csv('Datasets/union dataset.csv')"
   ]
  },
  {
   "cell_type": "code",
   "execution_count": null,
   "id": "07282653",
   "metadata": {},
   "outputs": [],
   "source": []
  },
  {
   "cell_type": "code",
   "execution_count": 57,
   "id": "be5b91b7",
   "metadata": {},
   "outputs": [],
   "source": [
    "ticker = 'AMAT'\n",
    "period1 = int(time.mktime(datetime.datetime(2015, 1, 1).timetuple()))\n",
    "period2 = int(time.mktime(datetime.datetime(2023, 6, 1).timetuple()))\n",
    "interval = '1mo' \n",
    "\n",
    "query_string = f'https://query1.finance.yahoo.com/v7/finance/download/{ticker}?period1={period1}&period2={period2}&interval={interval}&events=history&includeAdjustedClose=true'\n",
    "\n",
    "materials_stock = pd.read_csv(query_string)\n",
    "\n",
    "materials_stock = materials_stock[[\"Date\", \"Adj Close\", \"Volume\"]]\n",
    "materials_stock = materials_stock.set_index('Date')\n",
    "materials_stock[\"press release\"] = np.nan"
   ]
  },
  {
   "cell_type": "code",
   "execution_count": 62,
   "id": "c0564c27",
   "metadata": {},
   "outputs": [],
   "source": [
    "date = '2018-11-01'\n",
    "materials_stock[\"press release\"].loc[date] = \"Fiscal 2017 was a record-breaking year for the company.  We have great momentum and we’re confident that in 2018 we can deliver strong double-digit growth across our semiconductor, display and service businesses. This is the most exciting time in the history of the electronics industry. AI will transform entire industries over the coming years, creating trillions of dollars of economic value, and Applied is uniquely positioned to deliver the innovative materials needed to enable next-generation memory and high-performance computing.\""
   ]
  },
  {
   "cell_type": "code",
   "execution_count": 66,
   "id": "b542488f",
   "metadata": {},
   "outputs": [],
   "source": [
    "materials_stock['Price change 12mo'] = np.nan\n",
    "for i in range(0, len(materials_stock['Adj Close'])):\n",
    "    if isinstance(materials_stock['press release'].iloc[i], str):\n",
    "        change = materials_stock['Adj Close'].iloc[i+6] - materials_stock['Adj Close'].iloc[i]\n",
    "        materials_stock['Price change 12mo'].iloc[i] = change\n",
    "        \n",
    "materials_stock['Price change 8mo'] = np.nan\n",
    "for i in range(0, len(materials_stock['Adj Close'])):\n",
    "    if isinstance(materials_stock['press release'].iloc[i], str):\n",
    "        change = materials_stock['Adj Close'].iloc[i+4] - materials_stock['Adj Close'].iloc[i]\n",
    "        materials_stock['Price change 8mo'].iloc[i] = change\n",
    "        \n",
    "materials_stock['Price change 4mo'] = np.nan\n",
    "for i in range(0, len(materials_stock['Adj Close'])):\n",
    "    if isinstance(materials_stock['press release'].iloc[i], str):\n",
    "        change = materials_stock['Adj Close'].iloc[i+2] - materials_stock['Adj Close'].iloc[i]\n",
    "        materials_stock['Price change 4mo'].iloc[i] = change"
   ]
  },
  {
   "cell_type": "code",
   "execution_count": 67,
   "id": "b3e1d3ab",
   "metadata": {},
   "outputs": [],
   "source": [
    "#materials_stock.to_csv('Datasets/materials dataset.csv')"
   ]
  },
  {
   "cell_type": "code",
   "execution_count": null,
   "id": "e032de2d",
   "metadata": {},
   "outputs": [],
   "source": []
  },
  {
   "cell_type": "code",
   "execution_count": 68,
   "id": "4c5ec6d9",
   "metadata": {},
   "outputs": [],
   "source": [
    "ticker = 'AMGN'\n",
    "period1 = int(time.mktime(datetime.datetime(2015, 1, 1).timetuple()))\n",
    "period2 = int(time.mktime(datetime.datetime(2023, 6, 1).timetuple()))\n",
    "interval = '1mo' \n",
    "\n",
    "query_string = f'https://query1.finance.yahoo.com/v7/finance/download/{ticker}?period1={period1}&period2={period2}&interval={interval}&events=history&includeAdjustedClose=true'\n",
    "\n",
    "amgen_stock = pd.read_csv(query_string)\n",
    "\n",
    "amgen_stock = amgen_stock[[\"Date\", \"Adj Close\", \"Volume\"]]\n",
    "amgen_stock = amgen_stock.set_index('Date')\n",
    "amgen_stock[\"press release\"] = np.nan"
   ]
  },
  {
   "cell_type": "code",
   "execution_count": 76,
   "id": "1d4c209e",
   "metadata": {},
   "outputs": [],
   "source": [
    "date = '2018-01-01'\n",
    "amgen_stock[\"press release\"].loc[date] = \"AMG generated excellent results for the fourth quarter and the full year 2017, including record Economic earnings per share of $4.68 for the quarter and $14.60 for the year. In addition to growth in our Economic earnings per share of 23% and 14% over the respective periods of 2016, our assets under management increased 21% year-over-year to a record $836 billion, driven by the long-term investment outperformance of our alpha-generating Affiliates and the strong execution of our growth strategy, including organic growth from net client cash flows and the ongoing success of our strategic initiatives to support and enhance our Affiliates’ new business momentum. Given the strength of our competitive position along with the increased scale and earnings power of our business, we have outstanding prospects for continued earnings growth going forward. We are pleased with the organic growth we generated in 2017, particularly given our substantial exposure to uncorrelated alternative strategies, which are optimally positioned for periods of market volatility. Across our diverse active equity and alternative product set, our Affiliates generated positive net client cash flows during both the quarter and the year, notwithstanding continued industry-wide net outflows in actively-managed product areas. Looking ahead, as one of the leading providers of alpha-generating strategies globally, AMG is well-positioned to meet increasing client demand for differentiated return streams. We are confident in our ability to continue to generate strong long-term earnings growth through accretive investments in outstanding new Affiliates, while also consistently returning capital to shareholders through dividends and share repurchases. Reflecting this confidence in our forward prospects, our Board of Directors approved a 50% increase in our dividend along with an additional stock repurchase authorization. Given our significant and growing scale, along with the ongoing organic growth of our business and our disciplined commitment to capital allocation, we are well-positioned to create long-term shareholder value.\""
   ]
  },
  {
   "cell_type": "code",
   "execution_count": 77,
   "id": "68314e02",
   "metadata": {},
   "outputs": [],
   "source": [
    "amgen_stock['Price change 12mo'] = np.nan\n",
    "for i in range(0, len(amgen_stock['Adj Close'])):\n",
    "    if isinstance(amgen_stock['press release'].iloc[i], str):\n",
    "        change = amgen_stock['Adj Close'].iloc[i+11] - amgen_stock['Adj Close'].iloc[i]\n",
    "        amgen_stock['Price change 12mo'].iloc[i] = change\n",
    "        \n",
    "amgen_stock['Price change 8mo'] = np.nan\n",
    "for i in range(0, len(amgen_stock['Adj Close'])):\n",
    "    if isinstance(amgen_stock['press release'].iloc[i], str):\n",
    "        change = amgen_stock['Adj Close'].iloc[i+7] - amgen_stock['Adj Close'].iloc[i]\n",
    "        amgen_stock['Price change 8mo'].iloc[i] = change\n",
    "        \n",
    "amgen_stock['Price change 4mo'] = np.nan\n",
    "for i in range(0, len(amgen_stock['Adj Close'])):\n",
    "    if isinstance(amgen_stock['press release'].iloc[i], str):\n",
    "        change = amgen_stock['Adj Close'].iloc[i+3] - amgen_stock['Adj Close'].iloc[i]\n",
    "        amgen_stock['Price change 4mo'].iloc[i] = change"
   ]
  },
  {
   "cell_type": "code",
   "execution_count": 78,
   "id": "0121db09",
   "metadata": {},
   "outputs": [],
   "source": [
    "#amgen_stock.to_csv('Datasets/amgen dataset.csv')"
   ]
  },
  {
   "cell_type": "code",
   "execution_count": null,
   "id": "429f763d",
   "metadata": {},
   "outputs": [],
   "source": []
  },
  {
   "cell_type": "code",
   "execution_count": 79,
   "id": "3feb3593",
   "metadata": {},
   "outputs": [],
   "source": [
    "ticker = 'GE'\n",
    "period1 = int(time.mktime(datetime.datetime(2015, 1, 1).timetuple()))\n",
    "period2 = int(time.mktime(datetime.datetime(2023, 6, 1).timetuple()))\n",
    "interval = '1mo' \n",
    "\n",
    "query_string = f'https://query1.finance.yahoo.com/v7/finance/download/{ticker}?period1={period1}&period2={period2}&interval={interval}&events=history&includeAdjustedClose=true'\n",
    "\n",
    "electric_stock = pd.read_csv(query_string)\n",
    "\n",
    "electric_stock = electric_stock[[\"Date\", \"Adj Close\", \"Volume\"]]\n",
    "electric_stock = electric_stock.set_index('Date')\n",
    "electric_stock[\"press release\"] = np.nan"
   ]
  },
  {
   "cell_type": "code",
   "execution_count": 84,
   "id": "314d8644",
   "metadata": {},
   "outputs": [],
   "source": [
    "date = '2018-01-01'\n",
    "electric_stock[\"press release\"].loc[date] = \"In the fourth quarter, EPS was at the low-end of guidance, excluding insurance-related items, U.S. tax reform, and industrial portfolio actions. Cash performance was above expectations and our visibility and execution on cash is improving.  Aviation and Healthcare had strong performances in the quarter. Power was down significantly and we expect market challenges to continue. Our results this quarter demonstrate some of the early progress we are seeing from our key initiatives. The team is focused on operational execution, capital allocation and deep cost reduction to position us for continued improvement in 2018. \""
   ]
  },
  {
   "cell_type": "code",
   "execution_count": 85,
   "id": "438febd6",
   "metadata": {},
   "outputs": [],
   "source": [
    "electric_stock['Price change 12mo'] = np.nan\n",
    "for i in range(0, len(electric_stock['Adj Close'])):\n",
    "    if isinstance(electric_stock['press release'].iloc[i], str):\n",
    "        change = electric_stock['Adj Close'].iloc[i+11] - electric_stock['Adj Close'].iloc[i]\n",
    "        electric_stock['Price change 12mo'].iloc[i] = change\n",
    "        \n",
    "electric_stock['Price change 8mo'] = np.nan\n",
    "for i in range(0, len(electric_stock['Adj Close'])):\n",
    "    if isinstance(electric_stock['press release'].iloc[i], str):\n",
    "        change = electric_stock['Adj Close'].iloc[i+7] - electric_stock['Adj Close'].iloc[i]\n",
    "        electric_stock['Price change 8mo'].iloc[i] = change\n",
    "        \n",
    "electric_stock['Price change 4mo'] = np.nan\n",
    "for i in range(0, len(electric_stock['Adj Close'])):\n",
    "    if isinstance(electric_stock['press release'].iloc[i], str):\n",
    "        change = electric_stock['Adj Close'].iloc[i+3] - electric_stock['Adj Close'].iloc[i]\n",
    "        electric_stock['Price change 4mo'].iloc[i] = change"
   ]
  },
  {
   "cell_type": "code",
   "execution_count": 86,
   "id": "7086e439",
   "metadata": {},
   "outputs": [],
   "source": [
    "#electric_stock.to_csv('Datasets/electric dataset.csv')"
   ]
  },
  {
   "cell_type": "code",
   "execution_count": null,
   "id": "7aa2b5b1",
   "metadata": {},
   "outputs": [],
   "source": []
  },
  {
   "cell_type": "code",
   "execution_count": 88,
   "id": "d8224cca",
   "metadata": {},
   "outputs": [],
   "source": [
    "ticker = 'T'\n",
    "period1 = int(time.mktime(datetime.datetime(2015, 1, 1).timetuple()))\n",
    "period2 = int(time.mktime(datetime.datetime(2023, 6, 1).timetuple()))\n",
    "interval = '1mo' \n",
    "\n",
    "query_string = f'https://query1.finance.yahoo.com/v7/finance/download/{ticker}?period1={period1}&period2={period2}&interval={interval}&events=history&includeAdjustedClose=true'\n",
    "\n",
    "att_stock = pd.read_csv(query_string)\n",
    "\n",
    "att_stock = att_stock[[\"Date\", \"Adj Close\", \"Volume\"]]\n",
    "att_stock = att_stock.set_index('Date')\n",
    "att_stock[\"press release\"] = np.nan"
   ]
  },
  {
   "cell_type": "code",
   "execution_count": 93,
   "id": "00460488",
   "metadata": {},
   "outputs": [],
   "source": [
    "date = '2018-01-01'\n",
    "att_stock[\"press release\"].loc[date] = \"The impact of tax reform and regulatory rationalization will be substantial and positive for the U.S. economy and AT&T. Our FirstNet win and the opt-in by 100 percent of all states and territories will enable us to put the industry's most robust spectrum assets to work in building a best-in-class nationwide network for public safety and first responders. On the Time Warner front, we look forward to presenting our case in court and closing the deal.\""
   ]
  },
  {
   "cell_type": "code",
   "execution_count": 94,
   "id": "00c7f398",
   "metadata": {},
   "outputs": [],
   "source": [
    "att_stock['Price change 12mo'] = np.nan\n",
    "for i in range(0, len(att_stock['Adj Close'])):\n",
    "    if isinstance(att_stock['press release'].iloc[i], str):\n",
    "        change = att_stock['Adj Close'].iloc[i+11] - att_stock['Adj Close'].iloc[i]\n",
    "        att_stock['Price change 12mo'].iloc[i] = change\n",
    "        \n",
    "att_stock['Price change 8mo'] = np.nan\n",
    "for i in range(0, len(att_stock['Adj Close'])):\n",
    "    if isinstance(att_stock['press release'].iloc[i], str):\n",
    "        change = att_stock['Adj Close'].iloc[i+7] - att_stock['Adj Close'].iloc[i]\n",
    "        att_stock['Price change 8mo'].iloc[i] = change\n",
    "        \n",
    "att_stock['Price change 4mo'] = np.nan\n",
    "for i in range(0, len(att_stock['Adj Close'])):\n",
    "    if isinstance(att_stock['press release'].iloc[i], str):\n",
    "        change = att_stock['Adj Close'].iloc[i+3] - att_stock['Adj Close'].iloc[i]\n",
    "        att_stock['Price change 4mo'].iloc[i] = change"
   ]
  },
  {
   "cell_type": "code",
   "execution_count": 95,
   "id": "83b16b09",
   "metadata": {},
   "outputs": [],
   "source": [
    "#att_stock.to_csv('Datasets/att dataset.csv')"
   ]
  },
  {
   "cell_type": "code",
   "execution_count": null,
   "id": "5338fd5c",
   "metadata": {},
   "outputs": [],
   "source": []
  },
  {
   "cell_type": "code",
   "execution_count": 96,
   "id": "16644be3",
   "metadata": {},
   "outputs": [],
   "source": [
    "ticker = 'SBUX'\n",
    "period1 = int(time.mktime(datetime.datetime(2015, 1, 1).timetuple()))\n",
    "period2 = int(time.mktime(datetime.datetime(2023, 6, 1).timetuple()))\n",
    "interval = '1mo' \n",
    "\n",
    "query_string = f'https://query1.finance.yahoo.com/v7/finance/download/{ticker}?period1={period1}&period2={period2}&interval={interval}&events=history&includeAdjustedClose=true'\n",
    "\n",
    "starbucks_stock = pd.read_csv(query_string)\n",
    "\n",
    "starbucks_stock = starbucks_stock[[\"Date\", \"Adj Close\", \"Volume\"]]\n",
    "starbucks_stock = starbucks_stock.set_index('Date')\n",
    "starbucks_stock[\"press release\"] = np.nan"
   ]
  },
  {
   "cell_type": "code",
   "execution_count": 104,
   "id": "82d21d82",
   "metadata": {},
   "outputs": [],
   "source": [
    "date = '2018-10-01'\n",
    "starbucks_stock[\"press release\"].loc[date] = \"Starbucks record Q4 performance reflected meaningful improvement in virtually every critical operating metric compared to Q3. As we enter fiscal 2019, we are executing against a clear growth agenda, with a focus on our long-term growth markets of the U.S. and China. We are also excited about the long-term growth potential of our new Global Coffee Alliance with Nestlé. I’m incredibly proud of our 350,000 Starbucks partners around the world and pleased with the continued progress in our growth agenda. In Q4, Starbucks delivered improved sequential results in both our Americas and China/Asia Pacific segments. We also further set the stage for increased benefits from our ongoing efforts to streamline the company. Each of these factors contributed to the record Q4 results we reported today and position us well for fiscal 2019 and beyond. As always, credit for Starbucks performance belongs to our store partners all around the world who proudly wear the green apron and deliver an elevated Starbucks Experience to our customers, every day.\""
   ]
  },
  {
   "cell_type": "code",
   "execution_count": 107,
   "id": "fdcd9950",
   "metadata": {},
   "outputs": [],
   "source": [
    "starbucks_stock['Price change 12mo'] = np.nan\n",
    "for i in range(0, len(starbucks_stock['Adj Close'])):\n",
    "    if isinstance(starbucks_stock['press release'].iloc[i], str):\n",
    "        change = starbucks_stock['Adj Close'].iloc[i+7] - starbucks_stock['Adj Close'].iloc[i]\n",
    "        starbucks_stock['Price change 12mo'].iloc[i] = change\n",
    "        \n",
    "starbucks_stock['Price change 8mo'] = np.nan\n",
    "for i in range(0, len(starbucks_stock['Adj Close'])):\n",
    "    if isinstance(starbucks_stock['press release'].iloc[i], str):\n",
    "        change = starbucks_stock['Adj Close'].iloc[i+5] - starbucks_stock['Adj Close'].iloc[i]\n",
    "        starbucks_stock['Price change 8mo'].iloc[i] = change\n",
    "        \n",
    "starbucks_stock['Price change 4mo'] = np.nan\n",
    "for i in range(0, len(starbucks_stock['Adj Close'])):\n",
    "    if isinstance(starbucks_stock['press release'].iloc[i], str):\n",
    "        change = starbucks_stock['Adj Close'].iloc[i+3] - starbucks_stock['Adj Close'].iloc[i]\n",
    "        starbucks_stock['Price change 4mo'].iloc[i] = change"
   ]
  },
  {
   "cell_type": "code",
   "execution_count": 108,
   "id": "29e854ee",
   "metadata": {},
   "outputs": [],
   "source": [
    "#starbucks_stock.to_csv('Datasets/starbucks dataset.csv')"
   ]
  },
  {
   "cell_type": "code",
   "execution_count": null,
   "id": "ea65bd04",
   "metadata": {},
   "outputs": [],
   "source": []
  },
  {
   "cell_type": "code",
   "execution_count": 109,
   "id": "67466167",
   "metadata": {},
   "outputs": [],
   "source": [
    "ticker = 'ELV'\n",
    "period1 = int(time.mktime(datetime.datetime(2015, 1, 1).timetuple()))\n",
    "period2 = int(time.mktime(datetime.datetime(2023, 6, 1).timetuple()))\n",
    "interval = '1mo' \n",
    "\n",
    "query_string = f'https://query1.finance.yahoo.com/v7/finance/download/{ticker}?period1={period1}&period2={period2}&interval={interval}&events=history&includeAdjustedClose=true'\n",
    "\n",
    "elevance_stock = pd.read_csv(query_string)\n",
    "\n",
    "elevance_stock = elevance_stock[[\"Date\", \"Adj Close\", \"Volume\"]]\n",
    "elevance_stock = elevance_stock.set_index('Date')\n",
    "elevance_stock[\"press release\"] = np.nan"
   ]
  },
  {
   "cell_type": "code",
   "execution_count": 117,
   "id": "5223e31a",
   "metadata": {},
   "outputs": [],
   "source": [
    "date = '2018-01-01'\n",
    "elevance_stock[\"press release\"].loc[date] = \"We are pleased with our 2017 performance, which is the result of improved execution in all areas of our business and an increased focus on aligning strategic investments and capabilities to more effectively meet the changing needs of the more than forty million consumers we are privileged to serve. Moving forward, we will continue to leverage our broad business portfolio and extensive care provider, consumer and analytics capabilities to deliver high quality healthcare solutions as we work to create a healthcare system that is more affordable and simpler to navigate for all Americans.\""
   ]
  },
  {
   "cell_type": "code",
   "execution_count": 118,
   "id": "2269ee19",
   "metadata": {},
   "outputs": [],
   "source": [
    "elevance_stock['Price change 12mo'] = np.nan\n",
    "for i in range(0, len(elevance_stock['Adj Close'])):\n",
    "    if isinstance(elevance_stock['press release'].iloc[i], str):\n",
    "        change = elevance_stock['Adj Close'].iloc[i+11] - elevance_stock['Adj Close'].iloc[i]\n",
    "        elevance_stock['Price change 12mo'].iloc[i] = change\n",
    "        \n",
    "elevance_stock['Price change 8mo'] = np.nan\n",
    "for i in range(0, len(elevance_stock['Adj Close'])):\n",
    "    if isinstance(elevance_stock['press release'].iloc[i], str):\n",
    "        change = elevance_stock['Adj Close'].iloc[i+8] - elevance_stock['Adj Close'].iloc[i]\n",
    "        elevance_stock['Price change 8mo'].iloc[i] = change\n",
    "        \n",
    "elevance_stock['Price change 4mo'] = np.nan\n",
    "for i in range(0, len(elevance_stock['Adj Close'])):\n",
    "    if isinstance(elevance_stock['press release'].iloc[i], str):\n",
    "        change = elevance_stock['Adj Close'].iloc[i+4] - elevance_stock['Adj Close'].iloc[i]\n",
    "        elevance_stock['Price change 4mo'].iloc[i] = change"
   ]
  },
  {
   "cell_type": "code",
   "execution_count": 119,
   "id": "c640628d",
   "metadata": {},
   "outputs": [],
   "source": [
    "#elevance_stock.to_csv('Datasets/elevance dataset.csv')"
   ]
  },
  {
   "cell_type": "code",
   "execution_count": null,
   "id": "161a7a9e",
   "metadata": {},
   "outputs": [],
   "source": []
  },
  {
   "cell_type": "code",
   "execution_count": 120,
   "id": "a3daa1ca",
   "metadata": {},
   "outputs": [],
   "source": [
    "ticker = 'MDT'\n",
    "period1 = int(time.mktime(datetime.datetime(2015, 1, 1).timetuple()))\n",
    "period2 = int(time.mktime(datetime.datetime(2023, 6, 1).timetuple()))\n",
    "interval = '1mo' \n",
    "\n",
    "query_string = f'https://query1.finance.yahoo.com/v7/finance/download/{ticker}?period1={period1}&period2={period2}&interval={interval}&events=history&includeAdjustedClose=true'\n",
    "\n",
    "medtronic_stock = pd.read_csv(query_string)\n",
    "\n",
    "medtronic_stock = medtronic_stock[[\"Date\", \"Adj Close\", \"Volume\"]]\n",
    "medtronic_stock = medtronic_stock.set_index('Date')\n",
    "medtronic_stock[\"press release\"] = np.nan"
   ]
  },
  {
   "cell_type": "code",
   "execution_count": 124,
   "id": "cde0ded2",
   "metadata": {},
   "outputs": [],
   "source": [
    "date = '2019-05-01'\n",
    "medtronic_stock[\"press release\"].loc[date] = \"Q4 was a solid finish to a strong fiscal year for Medtronic. In fiscal year 2019, we executed and delivered revenue growth, EPS, and free cash flow all above the guidance we set at the beginning of the year. Our organization overcame challenges and relied upon the diversification of our business to deliver another quarter of solid top- and bottom-line results, with excellent free cash flow generation.\""
   ]
  },
  {
   "cell_type": "code",
   "execution_count": 125,
   "id": "f4b50fba",
   "metadata": {},
   "outputs": [],
   "source": [
    "medtronic_stock['Price change 12mo'] = np.nan\n",
    "for i in range(0, len(medtronic_stock['Adj Close'])):\n",
    "    if isinstance(medtronic_stock['press release'].iloc[i], str):\n",
    "        change = medtronic_stock['Adj Close'].iloc[i+11] - medtronic_stock['Adj Close'].iloc[i]\n",
    "        medtronic_stock['Price change 12mo'].iloc[i] = change\n",
    "        \n",
    "medtronic_stock['Price change 8mo'] = np.nan\n",
    "for i in range(0, len(medtronic_stock['Adj Close'])):\n",
    "    if isinstance(medtronic_stock['press release'].iloc[i], str):\n",
    "        change = medtronic_stock['Adj Close'].iloc[i+8] - medtronic_stock['Adj Close'].iloc[i]\n",
    "        medtronic_stock['Price change 8mo'].iloc[i] = change\n",
    "        \n",
    "medtronic_stock['Price change 4mo'] = np.nan\n",
    "for i in range(0, len(medtronic_stock['Adj Close'])):\n",
    "    if isinstance(medtronic_stock['press release'].iloc[i], str):\n",
    "        change = medtronic_stock['Adj Close'].iloc[i+4] - medtronic_stock['Adj Close'].iloc[i]\n",
    "        medtronic_stock['Price change 4mo'].iloc[i] = change"
   ]
  },
  {
   "cell_type": "code",
   "execution_count": 126,
   "id": "3c810193",
   "metadata": {},
   "outputs": [],
   "source": [
    "#medtronic_stock.to_csv('Datasets/medtronic dataset.csv')"
   ]
  },
  {
   "cell_type": "code",
   "execution_count": null,
   "id": "3aa6aa5a",
   "metadata": {},
   "outputs": [],
   "source": []
  },
  {
   "cell_type": "code",
   "execution_count": 128,
   "id": "7331903a",
   "metadata": {},
   "outputs": [],
   "source": [
    "ticker = 'NOW'\n",
    "period1 = int(time.mktime(datetime.datetime(2015, 1, 1).timetuple()))\n",
    "period2 = int(time.mktime(datetime.datetime(2023, 6, 1).timetuple()))\n",
    "interval = '1mo' \n",
    "\n",
    "query_string = f'https://query1.finance.yahoo.com/v7/finance/download/{ticker}?period1={period1}&period2={period2}&interval={interval}&events=history&includeAdjustedClose=true'\n",
    "\n",
    "service_stock = pd.read_csv(query_string)\n",
    "\n",
    "service_stock = service_stock[[\"Date\", \"Adj Close\", \"Volume\"]]\n",
    "service_stock = service_stock.set_index('Date')\n",
    "service_stock[\"press release\"] = np.nan"
   ]
  },
  {
   "cell_type": "code",
   "execution_count": 134,
   "id": "703a2a69",
   "metadata": {},
   "outputs": [],
   "source": [
    "date = '2018-01-01'\n",
    "service_stock[\"press release\"].loc[date] = \"We finished 2017 with our best quarter ever, closing a record 41 deals greater than $1 million, and giving us strong global momentum. ServiceNow is becoming a clear strategic partner of choice for CIOs and other leaders digitally transforming their companies with simpler, easier, better ways to get work done and creating great experiences for their customers and employees. ombined backlog and deferred revenue at the end of 2017 was $3.9 billion, a 39% annual increase. Strength in 2017 was driven by more than 100 new Global 2000 customers, and increasing our customers with greater than $1 million in annual contract value by 43% year over year.\""
   ]
  },
  {
   "cell_type": "code",
   "execution_count": 135,
   "id": "fd7e54cf",
   "metadata": {},
   "outputs": [],
   "source": [
    "service_stock['Price change 12mo'] = np.nan\n",
    "for i in range(0, len(service_stock['Adj Close'])):\n",
    "    if isinstance(service_stock['press release'].iloc[i], str):\n",
    "        change = service_stock['Adj Close'].iloc[i+11] - service_stock['Adj Close'].iloc[i]\n",
    "        service_stock['Price change 12mo'].iloc[i] = change\n",
    "        \n",
    "service_stock['Price change 8mo'] = np.nan\n",
    "for i in range(0, len(service_stock['Adj Close'])):\n",
    "    if isinstance(service_stock['press release'].iloc[i], str):\n",
    "        change = service_stock['Adj Close'].iloc[i+8] - service_stock['Adj Close'].iloc[i]\n",
    "        service_stock['Price change 8mo'].iloc[i] = change\n",
    "        \n",
    "service_stock['Price change 4mo'] = np.nan\n",
    "for i in range(0, len(service_stock['Adj Close'])):\n",
    "    if isinstance(service_stock['press release'].iloc[i], str):\n",
    "        change = service_stock['Adj Close'].iloc[i+4] - service_stock['Adj Close'].iloc[i]\n",
    "        service_stock['Price change 4mo'].iloc[i] = change"
   ]
  },
  {
   "cell_type": "code",
   "execution_count": 136,
   "id": "b19fd1cd",
   "metadata": {},
   "outputs": [],
   "source": [
    "#service_stock.to_csv('Datasets/service dataset.csv')"
   ]
  },
  {
   "cell_type": "code",
   "execution_count": null,
   "id": "629f4607",
   "metadata": {},
   "outputs": [],
   "source": []
  },
  {
   "cell_type": "code",
   "execution_count": 137,
   "id": "3e488cab",
   "metadata": {},
   "outputs": [],
   "source": [
    "ticker = 'PLD'\n",
    "period1 = int(time.mktime(datetime.datetime(2015, 1, 1).timetuple()))\n",
    "period2 = int(time.mktime(datetime.datetime(2023, 6, 1).timetuple()))\n",
    "interval = '1mo' \n",
    "\n",
    "query_string = f'https://query1.finance.yahoo.com/v7/finance/download/{ticker}?period1={period1}&period2={period2}&interval={interval}&events=history&includeAdjustedClose=true'\n",
    "\n",
    "prologis_stock = pd.read_csv(query_string)\n",
    "\n",
    "prologis_stock = prologis_stock[[\"Date\", \"Adj Close\", \"Volume\"]]\n",
    "prologis_stock = prologis_stock.set_index('Date')\n",
    "prologis_stock[\"press release\"] = np.nan"
   ]
  },
  {
   "cell_type": "code",
   "execution_count": 142,
   "id": "a3b30197",
   "metadata": {},
   "outputs": [],
   "source": [
    "date = '2018-01-01'\n",
    "prologis_stock[\"press release\"].loc[date] = \"WOur results are a testament to our high-quality portfolio, proven strategy and strong execution by our global team. We are starting 2018 with even more embedded rental upside than we had last year. Looking forward, it’s all about using our scale and expertise to drive organic growth, put our global land bank to work and deliver further value from our customer relationships.\""
   ]
  },
  {
   "cell_type": "code",
   "execution_count": 143,
   "id": "d89d5443",
   "metadata": {},
   "outputs": [],
   "source": [
    "prologis_stock['Price change 12mo'] = np.nan\n",
    "for i in range(0, len(prologis_stock['Adj Close'])):\n",
    "    if isinstance(prologis_stock['press release'].iloc[i], str):\n",
    "        change = prologis_stock['Adj Close'].iloc[i+11] - prologis_stock['Adj Close'].iloc[i]\n",
    "        prologis_stock['Price change 12mo'].iloc[i] = change\n",
    "        \n",
    "prologis_stock['Price change 8mo'] = np.nan\n",
    "for i in range(0, len(prologis_stock['Adj Close'])):\n",
    "    if isinstance(prologis_stock['press release'].iloc[i], str):\n",
    "        change = prologis_stock['Adj Close'].iloc[i+8] - prologis_stock['Adj Close'].iloc[i]\n",
    "        prologis_stock['Price change 8mo'].iloc[i] = change\n",
    "        \n",
    "prologis_stock['Price change 4mo'] = np.nan\n",
    "for i in range(0, len(prologis_stock['Adj Close'])):\n",
    "    if isinstance(prologis_stock['press release'].iloc[i], str):\n",
    "        change = prologis_stock['Adj Close'].iloc[i+4] - prologis_stock['Adj Close'].iloc[i]\n",
    "        prologis_stock['Price change 4mo'].iloc[i] = change"
   ]
  },
  {
   "cell_type": "code",
   "execution_count": 144,
   "id": "baa4fef7",
   "metadata": {},
   "outputs": [],
   "source": [
    "#prologis_stock.to_csv('Datasets/prologis dataset.csv')"
   ]
  },
  {
   "cell_type": "code",
   "execution_count": null,
   "id": "5f11ab7e",
   "metadata": {},
   "outputs": [],
   "source": []
  },
  {
   "cell_type": "code",
   "execution_count": 147,
   "id": "935db951",
   "metadata": {},
   "outputs": [],
   "source": [
    "ticker = 'DE'\n",
    "period1 = int(time.mktime(datetime.datetime(2015, 1, 1).timetuple()))\n",
    "period2 = int(time.mktime(datetime.datetime(2023, 6, 1).timetuple()))\n",
    "interval = '1mo' \n",
    "\n",
    "query_string = f'https://query1.finance.yahoo.com/v7/finance/download/{ticker}?period1={period1}&period2={period2}&interval={interval}&events=history&includeAdjustedClose=true'\n",
    "\n",
    "deere_stock = pd.read_csv(query_string)\n",
    "\n",
    "deere_stock = deere_stock[[\"Date\", \"Adj Close\", \"Volume\"]]\n",
    "deere_stock = deere_stock.set_index('Date')\n",
    "deere_stock[\"press release\"] = np.nan"
   ]
  },
  {
   "cell_type": "code",
   "execution_count": 154,
   "id": "9e53bc32",
   "metadata": {},
   "outputs": [],
   "source": [
    "date = '2018-11-01'\n",
    "deere_stock[\"press release\"].loc[date] = \"John Deere has concluded another solid year in which the company benefited from a further improvement in market conditions and a favorable customer response to its lineup of advanced products. In the fourth quarter, farm machinery sales in the Americas made further gains while construction-equipment sales continued to move higher, helped in part by our Wirtgen road-building business, whose financial contribution has exceeded our original forecasts. At the same time, the company has continued to face cost pressures for raw materials such as steel, which are being addressed through pricing actions and ongoing cost management. The company’s strong performance has allowed for significant investment in new products, services, and technologies. In addition, the company in 2018 returned almost $1.8 billion to shareholders in higher dividends and the repurchase of over $900 million of stock. These steps reflect the strength of the company and our optimism about its future prospects.\""
   ]
  },
  {
   "cell_type": "code",
   "execution_count": 155,
   "id": "5dbd7c7d",
   "metadata": {},
   "outputs": [],
   "source": [
    "deere_stock['Price change 12mo'] = np.nan\n",
    "for i in range(0, len(deere_stock['Adj Close'])):\n",
    "    if isinstance(deere_stock['press release'].iloc[i], str):\n",
    "        change = deere_stock['Adj Close'].iloc[i+11] - deere_stock['Adj Close'].iloc[i]\n",
    "        deere_stock['Price change 12mo'].iloc[i] = change\n",
    "        \n",
    "deere_stock['Price change 8mo'] = np.nan\n",
    "for i in range(0, len(deere_stock['Adj Close'])):\n",
    "    if isinstance(deere_stock['press release'].iloc[i], str):\n",
    "        change = deere_stock['Adj Close'].iloc[i+8] - deere_stock['Adj Close'].iloc[i]\n",
    "        deere_stock['Price change 8mo'].iloc[i] = change\n",
    "        \n",
    "deere_stock['Price change 4mo'] = np.nan\n",
    "for i in range(0, len(deere_stock['Adj Close'])):\n",
    "    if isinstance(deere_stock['press release'].iloc[i], str):\n",
    "        change = deere_stock['Adj Close'].iloc[i+4] - deere_stock['Adj Close'].iloc[i]\n",
    "        deere_stock['Price change 4mo'].iloc[i] = change"
   ]
  },
  {
   "cell_type": "code",
   "execution_count": 156,
   "id": "6d8bba43",
   "metadata": {},
   "outputs": [],
   "source": [
    "#deere_stock.to_csv('Datasets/deere dataset.csv')"
   ]
  },
  {
   "cell_type": "code",
   "execution_count": null,
   "id": "0faeab08",
   "metadata": {},
   "outputs": [],
   "source": []
  },
  {
   "cell_type": "code",
   "execution_count": 157,
   "id": "95b6b97b",
   "metadata": {},
   "outputs": [],
   "source": [
    "ticker = 'LMT'\n",
    "period1 = int(time.mktime(datetime.datetime(2015, 1, 1).timetuple()))\n",
    "period2 = int(time.mktime(datetime.datetime(2023, 6, 1).timetuple()))\n",
    "interval = '1mo' \n",
    "\n",
    "query_string = f'https://query1.finance.yahoo.com/v7/finance/download/{ticker}?period1={period1}&period2={period2}&interval={interval}&events=history&includeAdjustedClose=true'\n",
    "\n",
    "lockhead_stock = pd.read_csv(query_string)\n",
    "\n",
    "lockhead_stock = lockhead_stock[[\"Date\", \"Adj Close\", \"Volume\"]]\n",
    "lockhead_stock = lockhead_stock.set_index('Date')\n",
    "lockhead_stock[\"press release\"] = np.nan"
   ]
  },
  {
   "cell_type": "code",
   "execution_count": 162,
   "id": "7a83143a",
   "metadata": {},
   "outputs": [],
   "source": [
    "date = '2018-01-01'\n",
    "lockhead_stock[\"press release\"].loc[date] = \"We delivered outstanding performance as we completed 2017, which enabled us to end the year with strong sales growth, $6.5 billion of cash from operations and a backlog of nearly $100 billion, while also returning over $4.0 billion to our shareholders. Looking ahead to 2018, we remain focused on meeting commitments to customers, pursuing new business growth opportunities, investing in innovative solutions to prepare for the future, and returning value to our shareholders.\""
   ]
  },
  {
   "cell_type": "code",
   "execution_count": 163,
   "id": "cea0b3a3",
   "metadata": {},
   "outputs": [],
   "source": [
    "lockhead_stock['Price change 12mo'] = np.nan\n",
    "for i in range(0, len(lockhead_stock['Adj Close'])):\n",
    "    if isinstance(lockhead_stock['press release'].iloc[i], str):\n",
    "        change = lockhead_stock['Adj Close'].iloc[i+11] - lockhead_stock['Adj Close'].iloc[i]\n",
    "        lockhead_stock['Price change 12mo'].iloc[i] = change\n",
    "        \n",
    "lockhead_stock['Price change 8mo'] = np.nan\n",
    "for i in range(0, len(lockhead_stock['Adj Close'])):\n",
    "    if isinstance(lockhead_stock['press release'].iloc[i], str):\n",
    "        change = lockhead_stock['Adj Close'].iloc[i+8] - lockhead_stock['Adj Close'].iloc[i]\n",
    "        lockhead_stock['Price change 8mo'].iloc[i] = change\n",
    "        \n",
    "lockhead_stock['Price change 4mo'] = np.nan\n",
    "for i in range(0, len(lockhead_stock['Adj Close'])):\n",
    "    if isinstance(lockhead_stock['press release'].iloc[i], str):\n",
    "        change = lockhead_stock['Adj Close'].iloc[i+4] - lockhead_stock['Adj Close'].iloc[i]\n",
    "        lockhead_stock['Price change 4mo'].iloc[i] = change"
   ]
  },
  {
   "cell_type": "code",
   "execution_count": 164,
   "id": "9a366b64",
   "metadata": {},
   "outputs": [],
   "source": [
    "#lockhead_stock.to_csv('Datasets/lockhead dataset.csv')"
   ]
  },
  {
   "cell_type": "code",
   "execution_count": null,
   "id": "c12de79e",
   "metadata": {},
   "outputs": [],
   "source": []
  },
  {
   "cell_type": "code",
   "execution_count": 165,
   "id": "e0da6e05",
   "metadata": {},
   "outputs": [],
   "source": [
    "ticker = 'BKNG'\n",
    "period1 = int(time.mktime(datetime.datetime(2015, 1, 1).timetuple()))\n",
    "period2 = int(time.mktime(datetime.datetime(2023, 6, 1).timetuple()))\n",
    "interval = '1mo' \n",
    "\n",
    "query_string = f'https://query1.finance.yahoo.com/v7/finance/download/{ticker}?period1={period1}&period2={period2}&interval={interval}&events=history&includeAdjustedClose=true'\n",
    "\n",
    "booking_stock = pd.read_csv(query_string)\n",
    "\n",
    "booking_stock = booking_stock[[\"Date\", \"Adj Close\", \"Volume\"]]\n",
    "booking_stock = booking_stock.set_index('Date')\n",
    "booking_stock[\"press release\"] = np.nan"
   ]
  },
  {
   "cell_type": "code",
   "execution_count": 170,
   "id": "526ca830",
   "metadata": {},
   "outputs": [],
   "source": [
    "date = '2018-01-01'\n",
    "booking_stock[\"press release\"].loc[date] = \"Booking Holdings finished 2017 with a strong 4th quarter, reporting year-over-year growth in room nights booked of 17% and Adjusted EBITDA growth of 23%. We are pleased with the solid execution across all of our brands in 2017 as we moved ahead on important investments in the year while driving strong top-line growth. We intend to continue to strategically invest in our business by growing our supply base to drive customer choice, innovating around the customer and supplier experience and investing in marketing that builds consumer awareness for our brands and delivers profitable top-line growth.\""
   ]
  },
  {
   "cell_type": "code",
   "execution_count": 171,
   "id": "125283c0",
   "metadata": {},
   "outputs": [],
   "source": [
    "booking_stock['Price change 12mo'] = np.nan\n",
    "for i in range(0, len(booking_stock['Adj Close'])):\n",
    "    if isinstance(booking_stock['press release'].iloc[i], str):\n",
    "        change = booking_stock['Adj Close'].iloc[i+11] - booking_stock['Adj Close'].iloc[i]\n",
    "        booking_stock['Price change 12mo'].iloc[i] = change\n",
    "        \n",
    "booking_stock['Price change 8mo'] = np.nan\n",
    "for i in range(0, len(booking_stock['Adj Close'])):\n",
    "    if isinstance(booking_stock['press release'].iloc[i], str):\n",
    "        change = booking_stock['Adj Close'].iloc[i+8] - booking_stock['Adj Close'].iloc[i]\n",
    "        booking_stock['Price change 8mo'].iloc[i] = change\n",
    "        \n",
    "booking_stock['Price change 4mo'] = np.nan\n",
    "for i in range(0, len(booking_stock['Adj Close'])):\n",
    "    if isinstance(booking_stock['press release'].iloc[i], str):\n",
    "        change = booking_stock['Adj Close'].iloc[i+4] - booking_stock['Adj Close'].iloc[i]\n",
    "        booking_stock['Price change 4mo'].iloc[i] = change"
   ]
  },
  {
   "cell_type": "code",
   "execution_count": 172,
   "id": "7a6bd7ac",
   "metadata": {},
   "outputs": [],
   "source": [
    "#booking_stock.to_csv('Datasets/booking dataset.csv')"
   ]
  },
  {
   "cell_type": "code",
   "execution_count": null,
   "id": "378f4105",
   "metadata": {},
   "outputs": [],
   "source": []
  },
  {
   "cell_type": "code",
   "execution_count": 178,
   "id": "7ae8fe98",
   "metadata": {},
   "outputs": [],
   "source": [
    "ticker = 'ADI'\n",
    "period1 = int(time.mktime(datetime.datetime(2015, 1, 1).timetuple()))\n",
    "period2 = int(time.mktime(datetime.datetime(2023, 6, 1).timetuple()))\n",
    "interval = '1mo' \n",
    "\n",
    "query_string = f'https://query1.finance.yahoo.com/v7/finance/download/{ticker}?period1={period1}&period2={period2}&interval={interval}&events=history&includeAdjustedClose=true'\n",
    "\n",
    "analog_stock = pd.read_csv(query_string)\n",
    "\n",
    "analog_stock = analog_stock[[\"Date\", \"Adj Close\", \"Volume\"]]\n",
    "analog_stock = analog_stock.set_index('Date')\n",
    "analog_stock[\"press release\"] = np.nan"
   ]
  },
  {
   "cell_type": "code",
   "execution_count": 184,
   "id": "575b6e4c",
   "metadata": {},
   "outputs": [],
   "source": [
    "date = '2018-11-01'\n",
    "analog_stock[\"press release\"].loc[date] = \"We delivered very strong financial results in our fourth quarter, achieving record revenue and earnings per share to cap off a successful year. Revenue growth was once again led by strength in our B2B markets, with particular strength in the industrial and communications sectors. Our portfolio of innovative solutions, customer-centric approach, and disciplined operational execution drove high profitability and strong cash generation, allowing us to return more than $360 million to shareholders in the quarter. Our diverse business model, combined with a comprehensive, market-leading portfolio that is strategically pointed at secular growth trends across our B2B markets, enables us to navigate the current macro climate. I am pleased that we continue to execute exceptionally well thanks in large part to the thousands of talented people across ADI who are dedicated to delivering quality and value for our customers every day.\""
   ]
  },
  {
   "cell_type": "code",
   "execution_count": 185,
   "id": "22acf71f",
   "metadata": {},
   "outputs": [],
   "source": [
    "analog_stock['Price change 12mo'] = np.nan\n",
    "for i in range(0, len(analog_stock['Adj Close'])):\n",
    "    if isinstance(analog_stock['press release'].iloc[i], str):\n",
    "        change = analog_stock['Adj Close'].iloc[i+11] - analog_stock['Adj Close'].iloc[i]\n",
    "        analog_stock['Price change 12mo'].iloc[i] = change\n",
    "        \n",
    "analog_stock['Price change 8mo'] = np.nan\n",
    "for i in range(0, len(analog_stock['Adj Close'])):\n",
    "    if isinstance(analog_stock['press release'].iloc[i], str):\n",
    "        change = analog_stock['Adj Close'].iloc[i+8] - analog_stock['Adj Close'].iloc[i]\n",
    "        analog_stock['Price change 8mo'].iloc[i] = change\n",
    "        \n",
    "analog_stock['Price change 4mo'] = np.nan\n",
    "for i in range(0, len(analog_stock['Adj Close'])):\n",
    "    if isinstance(analog_stock['press release'].iloc[i], str):\n",
    "        change = analog_stock['Adj Close'].iloc[i+4] - analog_stock['Adj Close'].iloc[i]\n",
    "        analog_stock['Price change 4mo'].iloc[i] = change"
   ]
  },
  {
   "cell_type": "code",
   "execution_count": 186,
   "id": "863b2f56",
   "metadata": {},
   "outputs": [],
   "source": [
    "#analog_stock.to_csv('Datasets/analog dataset.csv')"
   ]
  },
  {
   "cell_type": "code",
   "execution_count": null,
   "id": "c86d6b42",
   "metadata": {},
   "outputs": [],
   "source": []
  },
  {
   "cell_type": "code",
   "execution_count": 187,
   "id": "ff2f68ad",
   "metadata": {},
   "outputs": [],
   "source": [
    "ticker = 'SYK'\n",
    "period1 = int(time.mktime(datetime.datetime(2015, 1, 1).timetuple()))\n",
    "period2 = int(time.mktime(datetime.datetime(2023, 6, 1).timetuple()))\n",
    "interval = '1mo' \n",
    "\n",
    "query_string = f'https://query1.finance.yahoo.com/v7/finance/download/{ticker}?period1={period1}&period2={period2}&interval={interval}&events=history&includeAdjustedClose=true'\n",
    "\n",
    "stryker_stock = pd.read_csv(query_string)\n",
    "\n",
    "stryker_stock = stryker_stock[[\"Date\", \"Adj Close\", \"Volume\"]]\n",
    "stryker_stock = stryker_stock.set_index('Date')\n",
    "stryker_stock[\"press release\"] = np.nan"
   ]
  },
  {
   "cell_type": "code",
   "execution_count": 192,
   "id": "e92b69d4",
   "metadata": {},
   "outputs": [],
   "source": [
    "date = '2018-01-01'\n",
    "stryker_stock[\"press release\"].loc[date] = \"As pre-announced, we delivered excellent organic sales growth of over 8% in the fourth quarter, capping off a strong year for Stryker. We expect our positive momentum to continue in 2018 with another year of strong organic sales growth and leveraged adjusted earnings gains.\""
   ]
  },
  {
   "cell_type": "code",
   "execution_count": 193,
   "id": "3d764534",
   "metadata": {},
   "outputs": [],
   "source": [
    "stryker_stock['Price change 12mo'] = np.nan\n",
    "for i in range(0, len(stryker_stock['Adj Close'])):\n",
    "    if isinstance(stryker_stock['press release'].iloc[i], str):\n",
    "        change = stryker_stock['Adj Close'].iloc[i+11] - stryker_stock['Adj Close'].iloc[i]\n",
    "        stryker_stock['Price change 12mo'].iloc[i] = change\n",
    "        \n",
    "stryker_stock['Price change 8mo'] = np.nan\n",
    "for i in range(0, len(stryker_stock['Adj Close'])):\n",
    "    if isinstance(stryker_stock['press release'].iloc[i], str):\n",
    "        change = stryker_stock['Adj Close'].iloc[i+8] - stryker_stock['Adj Close'].iloc[i]\n",
    "        stryker_stock['Price change 8mo'].iloc[i] = change\n",
    "        \n",
    "stryker_stock['Price change 4mo'] = np.nan\n",
    "for i in range(0, len(stryker_stock['Adj Close'])):\n",
    "    if isinstance(stryker_stock['press release'].iloc[i], str):\n",
    "        change = stryker_stock['Adj Close'].iloc[i+4] - stryker_stock['Adj Close'].iloc[i]\n",
    "        stryker_stock['Price change 4mo'].iloc[i] = change"
   ]
  },
  {
   "cell_type": "code",
   "execution_count": 194,
   "id": "036429f7",
   "metadata": {},
   "outputs": [],
   "source": [
    "#stryker_stock.to_csv('Datasets/stryker dataset.csv')"
   ]
  },
  {
   "cell_type": "code",
   "execution_count": null,
   "id": "768193ca",
   "metadata": {},
   "outputs": [],
   "source": []
  }
 ],
 "metadata": {
  "kernelspec": {
   "display_name": "Python 3 (ipykernel)",
   "language": "python",
   "name": "python3"
  },
  "language_info": {
   "codemirror_mode": {
    "name": "ipython",
    "version": 3
   },
   "file_extension": ".py",
   "mimetype": "text/x-python",
   "name": "python",
   "nbconvert_exporter": "python",
   "pygments_lexer": "ipython3",
   "version": "3.8.16"
  }
 },
 "nbformat": 4,
 "nbformat_minor": 5
}
